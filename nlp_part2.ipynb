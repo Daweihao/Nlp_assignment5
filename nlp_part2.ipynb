{
 "cells": [
  {
   "cell_type": "markdown",
   "metadata": {},
   "source": [
    "## Add translation Part"
   ]
  },
  {
   "cell_type": "code",
   "execution_count": 1,
   "metadata": {
    "ExecuteTime": {
     "end_time": "2019-05-01T17:43:49.201719Z",
     "start_time": "2019-05-01T17:43:49.120775Z"
    }
   },
   "outputs": [],
   "source": [
    "with open(\"en_tokenized/clear_Eng_train.txt\",'r') as f:\n",
    "    texts_clear = [l.strip() for l in f]"
   ]
  },
  {
   "cell_type": "code",
   "execution_count": 2,
   "metadata": {
    "ExecuteTime": {
     "end_time": "2019-05-01T17:43:51.977691Z",
     "start_time": "2019-05-01T17:43:51.965052Z"
    }
   },
   "outputs": [],
   "source": [
    "with open(\"en_tokenized/augmented_En_train.txt\",'r') as f:\n",
    "    en_aug = [l.strip() for l in f]"
   ]
  },
  {
   "cell_type": "code",
   "execution_count": 3,
   "metadata": {
    "ExecuteTime": {
     "end_time": "2019-05-01T17:43:58.544791Z",
     "start_time": "2019-05-01T17:43:58.480174Z"
    }
   },
   "outputs": [],
   "source": [
    "with open('en_train/english_train.labels', 'r') as f:\n",
    "    en_train_labels = [int(l.strip()) for l in f]"
   ]
  },
  {
   "cell_type": "code",
   "execution_count": 4,
   "metadata": {
    "ExecuteTime": {
     "end_time": "2019-05-01T17:44:00.108396Z",
     "start_time": "2019-05-01T17:44:00.093274Z"
    }
   },
   "outputs": [],
   "source": [
    "with open('en_tokenized/augmented_En.labels', 'r') as f:\n",
    "    en_aug_labels = [int(l.strip()) for l in f]"
   ]
  },
  {
   "cell_type": "code",
   "execution_count": 5,
   "metadata": {
    "ExecuteTime": {
     "end_time": "2019-05-01T17:44:01.655114Z",
     "start_time": "2019-05-01T17:44:01.642693Z"
    }
   },
   "outputs": [],
   "source": [
    "with open('test/english_test.labels', 'r') as f:\n",
    "    en_test_labels = [int(l.strip()) for l in f]"
   ]
  },
  {
   "cell_type": "code",
   "execution_count": 6,
   "metadata": {
    "ExecuteTime": {
     "end_time": "2019-05-01T17:44:05.973116Z",
     "start_time": "2019-05-01T17:44:05.960308Z"
    }
   },
   "outputs": [],
   "source": [
    "with open(\"en_tokenized/clear_Eng_test.txt\",'r') as f:\n",
    "    trial_clear = [l.strip() for l in f]"
   ]
  },
  {
   "cell_type": "markdown",
   "metadata": {},
   "source": [
    "Spanish"
   ]
  },
  {
   "cell_type": "code",
   "execution_count": 7,
   "metadata": {
    "ExecuteTime": {
     "end_time": "2019-05-01T17:44:13.538783Z",
     "start_time": "2019-05-01T17:44:13.519356Z"
    }
   },
   "outputs": [],
   "source": [
    "with open(\"es_tokenized/clear_Es_train.txt\",'r') as f:\n",
    "    es_text_clear = [l.strip() for l in f]"
   ]
  },
  {
   "cell_type": "code",
   "execution_count": 8,
   "metadata": {
    "ExecuteTime": {
     "end_time": "2019-05-01T17:44:17.314176Z",
     "start_time": "2019-05-01T17:44:17.261108Z"
    }
   },
   "outputs": [],
   "source": [
    "with open(\"es_tokenized/augmented_Es_train.txt\",'r') as f:\n",
    "    es_aug = [l.strip() for l in f]"
   ]
  },
  {
   "cell_type": "code",
   "execution_count": 9,
   "metadata": {
    "ExecuteTime": {
     "end_time": "2019-05-01T17:44:24.538660Z",
     "start_time": "2019-05-01T17:44:24.523159Z"
    }
   },
   "outputs": [],
   "source": [
    "with open('es_train/spanish_train.labels', 'r') as f:\n",
    "    es_train_labels = [int(l.strip()) for l in f]"
   ]
  },
  {
   "cell_type": "code",
   "execution_count": 10,
   "metadata": {
    "ExecuteTime": {
     "end_time": "2019-05-01T17:44:25.085269Z",
     "start_time": "2019-05-01T17:44:25.033609Z"
    }
   },
   "outputs": [],
   "source": [
    "with open('es_tokenized/augmented_Es.labels', 'r') as f:\n",
    "    es_aug_labels = [int(l.strip()) for l in f]"
   ]
  },
  {
   "cell_type": "code",
   "execution_count": 11,
   "metadata": {
    "ExecuteTime": {
     "end_time": "2019-05-01T17:44:46.964206Z",
     "start_time": "2019-05-01T17:44:46.958312Z"
    }
   },
   "outputs": [],
   "source": [
    "with open('test/spanish_test.labels', 'r') as f:\n",
    "    es_test_labels = [int(l.strip()) for l in f]"
   ]
  },
  {
   "cell_type": "code",
   "execution_count": 12,
   "metadata": {
    "ExecuteTime": {
     "end_time": "2019-05-01T17:44:47.847628Z",
     "start_time": "2019-05-01T17:44:47.841654Z"
    }
   },
   "outputs": [],
   "source": [
    "with open(\"es_tokenized/clear_Es_test.txt\",'r') as f:\n",
    "    es_trial_clear = [l.strip() for l in f]"
   ]
  },
  {
   "cell_type": "code",
   "execution_count": 13,
   "metadata": {
    "ExecuteTime": {
     "end_time": "2019-05-01T17:47:05.555804Z",
     "start_time": "2019-05-01T17:47:05.544197Z"
    }
   },
   "outputs": [],
   "source": [
    "texts_clear.extend(en_aug)\n",
    "en_train_labels.extend(en_aug_labels)\n",
    "es_text_clear.extend(es_aug)\n",
    "es_train_labels.extend(es_aug_labels)"
   ]
  },
  {
   "cell_type": "code",
   "execution_count": 14,
   "metadata": {
    "ExecuteTime": {
     "end_time": "2019-05-01T17:47:47.284080Z",
     "start_time": "2019-05-01T17:47:47.279459Z"
    }
   },
   "outputs": [
    {
     "name": "stdout",
     "output_type": "stream",
     "text": [
      "105724\n",
      "105724\n",
      "97882\n",
      "97882\n"
     ]
    }
   ],
   "source": [
    "print(len(texts_clear))\n",
    "print(len(en_train_labels))\n",
    "print(len(es_text_clear))\n",
    "print(len(es_train_labels))"
   ]
  },
  {
   "cell_type": "markdown",
   "metadata": {},
   "source": [
    "## Vectorization"
   ]
  },
  {
   "cell_type": "code",
   "execution_count": 22,
   "metadata": {
    "ExecuteTime": {
     "end_time": "2019-05-01T18:35:14.275085Z",
     "start_time": "2019-05-01T18:35:14.270840Z"
    }
   },
   "outputs": [],
   "source": [
    "import numpy as np\n",
    "from sklearn.feature_extraction.text import TfidfVectorizer\n",
    "from sklearn.linear_model import LogisticRegression\n",
    "from sklearn.model_selection import train_test_split"
   ]
  },
  {
   "cell_type": "markdown",
   "metadata": {},
   "source": [
    "### English"
   ]
  },
  {
   "cell_type": "code",
   "execution_count": 16,
   "metadata": {
    "ExecuteTime": {
     "end_time": "2019-05-01T18:29:04.147208Z",
     "start_time": "2019-05-01T18:29:04.143693Z"
    }
   },
   "outputs": [],
   "source": [
    "tf = TfidfVectorizer(ngram_range=(-2,2))"
   ]
  },
  {
   "cell_type": "code",
   "execution_count": 17,
   "metadata": {
    "ExecuteTime": {
     "end_time": "2019-05-01T18:30:12.266742Z",
     "start_time": "2019-05-01T18:30:01.973733Z"
    }
   },
   "outputs": [],
   "source": [
    "en_train_tf = tf.fit_transform(texts_clear)\n",
    "en_test_tf = tf.transform(trial_clear)"
   ]
  },
  {
   "cell_type": "code",
   "execution_count": 23,
   "metadata": {
    "ExecuteTime": {
     "end_time": "2019-05-01T18:35:21.886726Z",
     "start_time": "2019-05-01T18:35:21.760912Z"
    }
   },
   "outputs": [],
   "source": [
    "en_train, en_dev = train_test_split(en_train_tf, test_size = 0.2, shuffle=False)\n",
    "en_y, en_dev_y = train_test_split(en_train_labels, test_size = 0.2, shuffle=False)"
   ]
  },
  {
   "cell_type": "code",
   "execution_count": 24,
   "metadata": {
    "ExecuteTime": {
     "end_time": "2019-05-01T18:35:22.692465Z",
     "start_time": "2019-05-01T18:35:22.689249Z"
    }
   },
   "outputs": [],
   "source": [
    "Cs = np.linspace(1,100,11)"
   ]
  },
  {
   "cell_type": "code",
   "execution_count": 77,
   "metadata": {
    "ExecuteTime": {
     "end_time": "2019-05-02T01:49:10.876118Z",
     "start_time": "2019-05-02T01:27:22.404976Z"
    }
   },
   "outputs": [
    {
     "name": "stdout",
     "output_type": "stream",
     "text": [
      "C:  1.0\n",
      "Macro F-Score (official): 9.564\n",
      "-----\n",
      "Micro F-Score: 26.337\n",
      "Precision: 26.337\n",
      "Recall: 26.337\n",
      "\n",
      "C:  10.9\n",
      "Macro F-Score (official): 12.183\n",
      "-----\n",
      "Micro F-Score: 25.42\n",
      "Precision: 25.42\n",
      "Recall: 25.42\n",
      "\n",
      "C:  20.8\n",
      "Macro F-Score (official): 12.373\n",
      "-----\n",
      "Micro F-Score: 25.122\n",
      "Precision: 25.122\n",
      "Recall: 25.122\n",
      "\n",
      "C:  30.700000000000003\n",
      "Macro F-Score (official): 12.47\n",
      "-----\n",
      "Micro F-Score: 25.037\n",
      "Precision: 25.037\n",
      "Recall: 25.037\n",
      "\n",
      "C:  40.6\n",
      "Macro F-Score (official): 12.541\n",
      "-----\n",
      "Micro F-Score: 24.98\n",
      "Precision: 24.98\n",
      "Recall: 24.98\n",
      "\n",
      "C:  50.5\n",
      "Macro F-Score (official): 12.549\n",
      "-----\n",
      "Micro F-Score: 24.918\n",
      "Precision: 24.918\n",
      "Recall: 24.918\n",
      "\n",
      "C:  60.400000000000006\n",
      "Macro F-Score (official): 12.567\n",
      "-----\n",
      "Micro F-Score: 24.819\n",
      "Precision: 24.819\n",
      "Recall: 24.819\n",
      "\n",
      "C:  70.3\n",
      "Macro F-Score (official): 12.599\n",
      "-----\n",
      "Micro F-Score: 24.819\n",
      "Precision: 24.819\n",
      "Recall: 24.819\n",
      "\n",
      "C:  80.2\n",
      "Macro F-Score (official): 12.617\n",
      "-----\n",
      "Micro F-Score: 24.758\n",
      "Precision: 24.758\n",
      "Recall: 24.758\n",
      "\n",
      "C:  90.10000000000001\n",
      "Macro F-Score (official): 12.618\n",
      "-----\n",
      "Micro F-Score: 24.762\n",
      "Precision: 24.762\n",
      "Recall: 24.762\n",
      "\n",
      "C:  100.0\n",
      "Macro F-Score (official): 12.584\n",
      "-----\n",
      "Micro F-Score: 24.701\n",
      "Precision: 24.701\n",
      "Recall: 24.701\n",
      "\n"
     ]
    }
   ],
   "source": [
    "for C in Cs:\n",
    "    print(\"C: \" , C )\n",
    "    lr = LogisticRegression(C=C,solver='liblinear',multi_class='auto', random_state=14)\n",
    "    lr.fit(en_train, en_y)\n",
    "    en_pred_train = lr.predict(en_dev)\n",
    "    en_pred_train.dtype = np.int\n",
    "    np.savetxt('res.txt', en_pred_train, fmt='%d')\n",
    "    np.savetxt('goldres.txt', np.array(en_dev_y).astype(int), fmt='%d')\n",
    "    %run scorer_semeval18.py goldres.txt res.txt\n",
    "    print()"
   ]
  },
  {
   "cell_type": "code",
   "execution_count": 73,
   "metadata": {
    "ExecuteTime": {
     "end_time": "2019-05-02T01:07:20.885444Z",
     "start_time": "2019-05-02T01:07:20.879032Z"
    }
   },
   "outputs": [],
   "source": [
    "lr = LogisticRegression(C=90, solver='liblinear',multi_class='auto', random_state=14)"
   ]
  },
  {
   "cell_type": "code",
   "execution_count": 74,
   "metadata": {
    "ExecuteTime": {
     "end_time": "2019-05-02T01:09:52.265365Z",
     "start_time": "2019-05-02T01:07:21.752286Z"
    }
   },
   "outputs": [
    {
     "data": {
      "text/plain": [
       "LogisticRegression(C=90, class_weight=None, dual=False, fit_intercept=True,\n",
       "          intercept_scaling=1, max_iter=100, multi_class='auto',\n",
       "          n_jobs=None, penalty='l2', random_state=14, solver='liblinear',\n",
       "          tol=0.0001, verbose=0, warm_start=False)"
      ]
     },
     "execution_count": 74,
     "metadata": {},
     "output_type": "execute_result"
    }
   ],
   "source": [
    "lr.fit(en_train_tf, en_train_labels)"
   ]
  },
  {
   "cell_type": "code",
   "execution_count": 75,
   "metadata": {
    "ExecuteTime": {
     "end_time": "2019-05-02T01:09:53.075802Z",
     "start_time": "2019-05-02T01:09:53.053305Z"
    }
   },
   "outputs": [],
   "source": [
    "en_preds = lr.predict(en_test_tf)\n",
    "en_pred_train.dtype = np.int"
   ]
  },
  {
   "cell_type": "code",
   "execution_count": 76,
   "metadata": {
    "ExecuteTime": {
     "end_time": "2019-05-02T01:09:53.810611Z",
     "start_time": "2019-05-02T01:09:53.770792Z"
    }
   },
   "outputs": [
    {
     "name": "stdout",
     "output_type": "stream",
     "text": [
      "Macro F-Score (official): 19.866\n",
      "-----\n",
      "Micro F-Score: 28.25\n",
      "Precision: 28.25\n",
      "Recall: 28.25\n"
     ]
    }
   ],
   "source": [
    "np.savetxt('res.txt', en_preds, fmt='%d')\n",
    "%run scorer_semeval18.py test/english_test.labels res.txt"
   ]
  },
  {
   "cell_type": "markdown",
   "metadata": {},
   "source": [
    "### Spanish"
   ]
  },
  {
   "cell_type": "code",
   "execution_count": 43,
   "metadata": {
    "ExecuteTime": {
     "end_time": "2019-05-01T23:47:59.735442Z",
     "start_time": "2019-05-01T23:47:52.245002Z"
    }
   },
   "outputs": [],
   "source": [
    "tf = TfidfVectorizer(ngram_range=(-2,2))\n",
    "es_train_tf = tf.fit_transform(es_text_clear)\n",
    "es_test_tf = tf.transform(es_trial_clear)"
   ]
  },
  {
   "cell_type": "code",
   "execution_count": 42,
   "metadata": {
    "ExecuteTime": {
     "end_time": "2019-05-01T23:47:46.122326Z",
     "start_time": "2019-05-01T23:47:46.116750Z"
    }
   },
   "outputs": [
    {
     "data": {
      "text/plain": [
       "(97882, 629413)"
      ]
     },
     "execution_count": 42,
     "metadata": {},
     "output_type": "execute_result"
    }
   ],
   "source": [
    "es_train_tf.shape"
   ]
  },
  {
   "cell_type": "code",
   "execution_count": 41,
   "metadata": {
    "ExecuteTime": {
     "end_time": "2019-05-01T23:47:18.816912Z",
     "start_time": "2019-05-01T23:47:18.810182Z"
    }
   },
   "outputs": [
    {
     "data": {
      "text/plain": [
       "(1000, 629413)"
      ]
     },
     "execution_count": 41,
     "metadata": {},
     "output_type": "execute_result"
    }
   ],
   "source": [
    "es_test_tf.shape"
   ]
  },
  {
   "cell_type": "code",
   "execution_count": 44,
   "metadata": {
    "ExecuteTime": {
     "end_time": "2019-05-01T23:48:03.337458Z",
     "start_time": "2019-05-01T23:48:03.229190Z"
    }
   },
   "outputs": [],
   "source": [
    "es_train, es_dev = train_test_split(es_train_tf, test_size = 0.2, shuffle=False)\n",
    "es_y, es_dev_y = train_test_split(es_train_labels, test_size = 0.2, shuffle=False)"
   ]
  },
  {
   "cell_type": "code",
   "execution_count": 50,
   "metadata": {
    "ExecuteTime": {
     "end_time": "2019-05-02T00:06:00.862759Z",
     "start_time": "2019-05-02T00:00:44.403287Z"
    }
   },
   "outputs": [
    {
     "name": "stdout",
     "output_type": "stream",
     "text": [
      "C:  1.0\n",
      "Macro F-Score (official): 12.542\n",
      "-----\n",
      "Micro F-Score: 33.304\n",
      "Precision: 33.304\n",
      "Recall: 33.304\n",
      "\n",
      "C:  10.9\n",
      "Macro F-Score (official): 17.016\n",
      "-----\n",
      "Micro F-Score: 33.074\n",
      "Precision: 33.08\n",
      "Recall: 33.069\n",
      "\n",
      "C:  20.8\n",
      "Macro F-Score (official): 17.262\n",
      "-----\n",
      "Micro F-Score: 32.566\n",
      "Precision: 32.574\n",
      "Recall: 32.559\n",
      "\n",
      "C:  30.700000000000003\n",
      "Macro F-Score (official): 17.372\n",
      "-----\n",
      "Micro F-Score: 32.352\n",
      "Precision: 32.359\n",
      "Recall: 32.344\n",
      "\n",
      "C:  40.6\n"
     ]
    },
    {
     "name": "stderr",
     "output_type": "stream",
     "text": [
      "/Users/weihaoran/env/lib/python3.6/site-packages/sklearn/linear_model/sag.py:334: ConvergenceWarning: The max_iter was reached which means the coef_ did not converge\n",
      "  \"the coef_ did not converge\", ConvergenceWarning)\n"
     ]
    },
    {
     "name": "stdout",
     "output_type": "stream",
     "text": [
      "Macro F-Score (official): 17.442\n",
      "-----\n",
      "Micro F-Score: 32.158\n",
      "Precision: 32.166\n",
      "Recall: 32.15\n",
      "\n",
      "C:  50.5\n",
      "Macro F-Score (official): 17.402\n",
      "-----\n",
      "Micro F-Score: 31.974\n",
      "Precision: 31.982\n",
      "Recall: 31.966\n",
      "\n",
      "C:  60.400000000000006\n",
      "Macro F-Score (official): 17.346\n",
      "-----\n",
      "Micro F-Score: 31.776\n",
      "Precision: 31.785\n",
      "Recall: 31.767\n",
      "\n",
      "C:  70.3\n",
      "Macro F-Score (official): 17.418\n",
      "-----\n",
      "Micro F-Score: 31.704\n",
      "Precision: 31.713\n",
      "Recall: 31.695\n",
      "\n",
      "C:  80.2\n",
      "Macro F-Score (official): 17.449\n",
      "-----\n",
      "Micro F-Score: 31.633\n",
      "Precision: 31.642\n",
      "Recall: 31.624\n",
      "\n",
      "C:  90.10000000000001\n",
      "Macro F-Score (official): 17.474\n",
      "-----\n",
      "Micro F-Score: 31.597\n",
      "Precision: 31.606\n",
      "Recall: 31.588\n",
      "\n",
      "C:  100.0\n",
      "Macro F-Score (official): 17.44\n",
      "-----\n",
      "Micro F-Score: 31.5\n",
      "Precision: 31.509\n",
      "Recall: 31.491\n",
      "\n"
     ]
    }
   ],
   "source": [
    "for C in Cs:\n",
    "    print(\"C: \" , C )\n",
    "    lr = LogisticRegression(C=C,solver='sag',multi_class='auto', random_state=14)\n",
    "    lr.fit(es_train, es_y)\n",
    "    es_pred_train = lr.predict(es_dev)\n",
    "    es_pred_train.dtype = np.int\n",
    "    np.savetxt('res.txt', es_pred_train, fmt='%d')\n",
    "    np.savetxt('goldres.txt', np.array(es_dev_y).astype(int), fmt='%d')\n",
    "    %run scorer_semeval18.py goldres.txt res.txt\n",
    "    print()"
   ]
  },
  {
   "cell_type": "code",
   "execution_count": 67,
   "metadata": {
    "ExecuteTime": {
     "end_time": "2019-05-02T00:40:32.006810Z",
     "start_time": "2019-05-02T00:40:32.003535Z"
    }
   },
   "outputs": [],
   "source": [
    "lr = LogisticRegression(C=90, solver='saga',multi_class='auto', random_state=14)"
   ]
  },
  {
   "cell_type": "code",
   "execution_count": 68,
   "metadata": {
    "ExecuteTime": {
     "end_time": "2019-05-02T00:41:21.550294Z",
     "start_time": "2019-05-02T00:40:32.683585Z"
    },
    "scrolled": true
   },
   "outputs": [
    {
     "name": "stderr",
     "output_type": "stream",
     "text": [
      "/Users/weihaoran/env/lib/python3.6/site-packages/sklearn/linear_model/sag.py:334: ConvergenceWarning: The max_iter was reached which means the coef_ did not converge\n",
      "  \"the coef_ did not converge\", ConvergenceWarning)\n"
     ]
    },
    {
     "data": {
      "text/plain": [
       "LogisticRegression(C=90, class_weight=None, dual=False, fit_intercept=True,\n",
       "          intercept_scaling=1, max_iter=100, multi_class='auto',\n",
       "          n_jobs=None, penalty='l2', random_state=14, solver='saga',\n",
       "          tol=0.0001, verbose=0, warm_start=False)"
      ]
     },
     "execution_count": 68,
     "metadata": {},
     "output_type": "execute_result"
    }
   ],
   "source": [
    "lr.fit(es_train_tf, es_train_labels)"
   ]
  },
  {
   "cell_type": "code",
   "execution_count": 69,
   "metadata": {
    "ExecuteTime": {
     "end_time": "2019-05-02T00:41:22.435227Z",
     "start_time": "2019-05-02T00:41:22.343974Z"
    }
   },
   "outputs": [],
   "source": [
    "es_preds = lr.predict(es_test_tf)\n",
    "es_pred_train.dtype = np.int"
   ]
  },
  {
   "cell_type": "code",
   "execution_count": 70,
   "metadata": {
    "ExecuteTime": {
     "end_time": "2019-05-02T00:41:23.037605Z",
     "start_time": "2019-05-02T00:41:23.025102Z"
    }
   },
   "outputs": [
    {
     "name": "stdout",
     "output_type": "stream",
     "text": [
      "Macro F-Score (official): 12.631\n",
      "-----\n",
      "Micro F-Score: 29.7\n",
      "Precision: 29.7\n",
      "Recall: 29.7\n"
     ]
    }
   ],
   "source": [
    "np.savetxt('res.txt', es_preds, fmt='%d')\n",
    "%run scorer_semeval18.py test/spanish_test.labels res.txt"
   ]
  },
  {
   "cell_type": "code",
   "execution_count": null,
   "metadata": {},
   "outputs": [],
   "source": []
  }
 ],
 "metadata": {
  "kernelspec": {
   "display_name": "Python 3",
   "language": "python",
   "name": "python3"
  },
  "language_info": {
   "codemirror_mode": {
    "name": "ipython",
    "version": 3
   },
   "file_extension": ".py",
   "mimetype": "text/x-python",
   "name": "python",
   "nbconvert_exporter": "python",
   "pygments_lexer": "ipython3",
   "version": "3.6.5"
  },
  "toc": {
   "base_numbering": 1,
   "nav_menu": {},
   "number_sections": true,
   "sideBar": true,
   "skip_h1_title": false,
   "title_cell": "Table of Contents",
   "title_sidebar": "Contents",
   "toc_cell": false,
   "toc_position": {},
   "toc_section_display": true,
   "toc_window_display": false
  },
  "varInspector": {
   "cols": {
    "lenName": 16,
    "lenType": 16,
    "lenVar": 40
   },
   "kernels_config": {
    "python": {
     "delete_cmd_postfix": "",
     "delete_cmd_prefix": "del ",
     "library": "var_list.py",
     "varRefreshCmd": "print(var_dic_list())"
    },
    "r": {
     "delete_cmd_postfix": ") ",
     "delete_cmd_prefix": "rm(",
     "library": "var_list.r",
     "varRefreshCmd": "cat(var_dic_list()) "
    }
   },
   "types_to_exclude": [
    "module",
    "function",
    "builtin_function_or_method",
    "instance",
    "_Feature"
   ],
   "window_display": false
  }
 },
 "nbformat": 4,
 "nbformat_minor": 2
}
