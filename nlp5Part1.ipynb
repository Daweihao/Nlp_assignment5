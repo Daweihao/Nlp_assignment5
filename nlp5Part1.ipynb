{
 "cells": [
  {
   "cell_type": "code",
   "execution_count": 59,
   "metadata": {
    "ExecuteTime": {
     "end_time": "2019-04-27T14:24:53.097972Z",
     "start_time": "2019-04-27T14:24:53.065640Z"
    }
   },
   "outputs": [],
   "source": [
    "import glob\n",
    "from multiprocessing import Pool\n",
    "import sys\n",
    "from nltk import TweetTokenizer\n",
    "import nltk\n",
    "import os\n",
    "import re\n",
    "import codecs\n",
    "import preprocessor as p\n",
    "from nltk.corpus import stopwords\n",
    "from nltk.tokenize import word_tokenize\n",
    "from string import punctuation\n",
    "from nltk.stem.snowball import EnglishStemmer\n",
    "import numpy as np"
   ]
  },
  {
   "cell_type": "markdown",
   "metadata": {},
   "source": [
    "## Loading Data"
   ]
  },
  {
   "cell_type": "code",
   "execution_count": 20,
   "metadata": {
    "ExecuteTime": {
     "end_time": "2019-04-27T04:03:41.488436Z",
     "start_time": "2019-04-27T04:03:41.405910Z"
    }
   },
   "outputs": [],
   "source": [
    "with open(\"en_train/english_train.text\", 'r') as f:\n",
    "    en_texts = [l.strip() for l in f]"
   ]
  },
  {
   "cell_type": "code",
   "execution_count": 61,
   "metadata": {
    "ExecuteTime": {
     "end_time": "2019-04-27T14:29:25.442770Z",
     "start_time": "2019-04-27T14:29:25.377322Z"
    }
   },
   "outputs": [],
   "source": [
    "with open('en_train/english_train.labels', 'r') as f:\n",
    "    en_labels = [int(l.strip()) for l in f]"
   ]
  },
  {
   "cell_type": "code",
   "execution_count": 43,
   "metadata": {
    "ExecuteTime": {
     "end_time": "2019-04-27T04:32:03.332276Z",
     "start_time": "2019-04-27T04:32:03.318070Z"
    }
   },
   "outputs": [],
   "source": [
    "with open('test/english_test.text', 'r') as f:\n",
    "    en_trial = [l.strip() for l in f]"
   ]
  },
  {
   "cell_type": "code",
   "execution_count": 62,
   "metadata": {
    "ExecuteTime": {
     "end_time": "2019-04-27T14:29:31.974326Z",
     "start_time": "2019-04-27T14:29:31.963090Z"
    }
   },
   "outputs": [],
   "source": [
    "with open('test/english_test.labels', 'r') as f:\n",
    "    en_trial_labels = [int(l.strip()) for l in f]"
   ]
  },
  {
   "cell_type": "code",
   "execution_count": 37,
   "metadata": {
    "ExecuteTime": {
     "end_time": "2019-04-27T04:27:38.871091Z",
     "start_time": "2019-04-27T04:27:38.849513Z"
    }
   },
   "outputs": [],
   "source": [
    "with open(\"es_train/spanish_train.text\", 'r') as f:\n",
    "    es_texts = [l.strip() for l in f]"
   ]
  },
  {
   "cell_type": "code",
   "execution_count": 38,
   "metadata": {
    "ExecuteTime": {
     "end_time": "2019-04-27T04:27:40.340366Z",
     "start_time": "2019-04-27T04:27:40.112838Z"
    }
   },
   "outputs": [],
   "source": [
    "with open(\"es_train/spanish_train.labels\", 'r') as f:\n",
    "    es_labels = [l.strip().split() for l in f]"
   ]
  },
  {
   "cell_type": "code",
   "execution_count": 45,
   "metadata": {
    "ExecuteTime": {
     "end_time": "2019-04-27T04:32:07.771885Z",
     "start_time": "2019-04-27T04:32:07.765448Z"
    }
   },
   "outputs": [],
   "source": [
    "with open('test/spanish_test.text', 'r') as f:\n",
    "    es_trial = [l.strip() for l in f]"
   ]
  },
  {
   "cell_type": "code",
   "execution_count": 46,
   "metadata": {
    "ExecuteTime": {
     "end_time": "2019-04-27T04:32:09.522599Z",
     "start_time": "2019-04-27T04:32:09.510859Z"
    }
   },
   "outputs": [],
   "source": [
    "with open('test/spanish_test.labels', 'r') as f:\n",
    "    es_trial_labels = [int(l.strip()) for l in f]"
   ]
  },
  {
   "cell_type": "code",
   "execution_count": 40,
   "metadata": {
    "ExecuteTime": {
     "end_time": "2019-04-27T04:29:00.683389Z",
     "start_time": "2019-04-27T04:29:00.679505Z"
    }
   },
   "outputs": [],
   "source": [
    "with open(\"mapping/english_mapping.txt\", 'r') as f:\n",
    "    en_maps = [l.strip().split() for l in f]"
   ]
  },
  {
   "cell_type": "code",
   "execution_count": 41,
   "metadata": {
    "ExecuteTime": {
     "end_time": "2019-04-27T04:29:01.991558Z",
     "start_time": "2019-04-27T04:29:01.986588Z"
    }
   },
   "outputs": [],
   "source": [
    "with open(\"mapping/spanish_mapping.txt\", 'r') as f:\n",
    "    es_maps = [l.strip().split() for l in f]"
   ]
  },
  {
   "cell_type": "code",
   "execution_count": 2,
   "metadata": {
    "ExecuteTime": {
     "end_time": "2019-04-27T01:49:40.839014Z",
     "start_time": "2019-04-27T01:49:40.833106Z"
    }
   },
   "outputs": [],
   "source": [
    "def preprocess_tweet(tweet):\n",
    "    tweet = tweet.lower()\n",
    "    tweet = re.sub('((www\\.[^\\s]+)|(https?://[^\\s]+)|(http?://[^\\s]+))','<url>',tweet)\n",
    "    tweet = re.sub('(\\@[^\\s]+)','<user>',tweet)\n",
    "    try:\n",
    "        tweet = tweet.decode('unicode_escape').encode('ascii','ignore')\n",
    "    except:\n",
    "        pass\n",
    "    return tweet"
   ]
  },
  {
   "cell_type": "code",
   "execution_count": 10,
   "metadata": {
    "ExecuteTime": {
     "end_time": "2019-04-27T01:53:03.468923Z",
     "start_time": "2019-04-27T01:53:03.458404Z"
    }
   },
   "outputs": [],
   "source": [
    "def tokenize_tweets(filename, dest_folder):\n",
    "    basename = os.path.basename(filename)\n",
    "    dest = os.path.join(dest_folder, basename + '.tok')\n",
    "    print(\"processing %s\" % basename)\n",
    "    tknzr = TweetTokenizer()\n",
    "    with codecs.open(dest, 'w', \"utf-8\") as out_fs:\n",
    "        with open(filename, 'r', encoding=\"utf-8\") as in_fs:\n",
    "            for line in in_fs:\n",
    "#                 try:\n",
    "#                     language, id, timestamp, username, tweet = line.strip().split('\\t')\n",
    "#                 except:\n",
    "#                     print(\"could not parse line.\")\n",
    "#                     continue\n",
    "#                 if language != 'en':\n",
    "#                     continue\n",
    "                tweet = tknzr.tokenize(line)\n",
    "#                 if not 6 < len(tweet) < 110:\n",
    "#                     continue\n",
    "                tweet = preprocess_tweet(' '.join(tweet))\n",
    "                out_fs.write(tweet+'\\n')"
   ]
  },
  {
   "cell_type": "code",
   "execution_count": 18,
   "metadata": {
    "ExecuteTime": {
     "end_time": "2019-04-27T04:03:38.066520Z",
     "start_time": "2019-04-27T04:03:38.055963Z"
    }
   },
   "outputs": [],
   "source": [
    "p.set_options(p.OPT.URL, p.OPT.NUMBER, p.OPT.MENTION)\n",
    "translator = str.maketrans(\"\", \"\", punctuation)"
   ]
  },
  {
   "cell_type": "code",
   "execution_count": 165,
   "metadata": {
    "ExecuteTime": {
     "end_time": "2019-04-28T21:32:09.104194Z",
     "start_time": "2019-04-28T21:32:09.093397Z"
    }
   },
   "outputs": [],
   "source": [
    "def preproc_eng(texts):\n",
    "    clear_texts = []\n",
    "    for text in texts:\n",
    "        # delete stop-words\n",
    "        text = ' '.join([word for word in text.split() if word not in (stopwords.words('english'))])\n",
    "        print(text)\n",
    "        # delete punctuation\n",
    "        text = word_tokenize(text.translate(translator))     \n",
    "        # stemming\n",
    "#         text = [stemmer.stem(w) for w in text]\n",
    "        # preprocessing as tweet\n",
    "        text = p.clean(' '.join(text))\n",
    "        clear_texts.append(text)\n",
    "    return clear_texts"
   ]
  },
  {
   "cell_type": "code",
   "execution_count": 49,
   "metadata": {
    "ExecuteTime": {
     "end_time": "2019-04-27T04:35:52.327949Z",
     "start_time": "2019-04-27T04:35:52.318905Z"
    }
   },
   "outputs": [],
   "source": [
    "def preproc_es(texts):\n",
    "    clear_texts = []\n",
    "    for text in texts:\n",
    "        # delete stop-words\n",
    "        text = ' '.join([word for word in text.split() if word not in (stopwords.words('spanish'))])\n",
    "        # delete punctuation\n",
    "        text = word_tokenize(text.translate(translator))\n",
    "        # stemming\n",
    "#         text = [stemmer.stem(w) for w in text]\n",
    "        # preprocessing as tweet\n",
    "        text = p.clean(' '.join(text))\n",
    "        clear_texts.append(text)\n",
    "    return clear_texts"
   ]
  },
  {
   "cell_type": "code",
   "execution_count": 24,
   "metadata": {
    "ExecuteTime": {
     "end_time": "2019-04-27T04:04:47.401547Z",
     "start_time": "2019-04-27T04:04:47.007589Z"
    }
   },
   "outputs": [
    {
     "name": "stderr",
     "output_type": "stream",
     "text": [
      "[nltk_data] Downloading package stopwords to\n",
      "[nltk_data]     /Users/weihaoran/nltk_data...\n",
      "[nltk_data]   Unzipping corpora/stopwords.zip.\n"
     ]
    },
    {
     "data": {
      "text/plain": [
       "True"
      ]
     },
     "execution_count": 24,
     "metadata": {},
     "output_type": "execute_result"
    }
   ],
   "source": [
    "nltk.download('stopwords')"
   ]
  },
  {
   "cell_type": "code",
   "execution_count": 26,
   "metadata": {
    "ExecuteTime": {
     "end_time": "2019-04-27T04:05:35.195476Z",
     "start_time": "2019-04-27T04:05:29.238967Z"
    }
   },
   "outputs": [
    {
     "name": "stderr",
     "output_type": "stream",
     "text": [
      "[nltk_data] Downloading package punkt to /Users/weihaoran/nltk_data...\n",
      "[nltk_data]   Unzipping tokenizers/punkt.zip.\n"
     ]
    },
    {
     "data": {
      "text/plain": [
       "True"
      ]
     },
     "execution_count": 26,
     "metadata": {},
     "output_type": "execute_result"
    }
   ],
   "source": [
    "nltk.download('punkt')"
   ]
  },
  {
   "cell_type": "code",
   "execution_count": 166,
   "metadata": {
    "ExecuteTime": {
     "end_time": "2019-04-28T21:36:27.694062Z",
     "start_time": "2019-04-28T21:32:11.485619Z"
    }
   },
   "outputs": [],
   "source": [
    "texts_clear = preproc_eng(texts)"
   ]
  },
  {
   "cell_type": "code",
   "execution_count": 47,
   "metadata": {
    "ExecuteTime": {
     "end_time": "2019-04-27T04:32:53.450117Z",
     "start_time": "2019-04-27T04:32:20.571383Z"
    }
   },
   "outputs": [],
   "source": [
    "trial_clear = preproc_eng(en_trial)"
   ]
  },
  {
   "cell_type": "code",
   "execution_count": 50,
   "metadata": {
    "ExecuteTime": {
     "end_time": "2019-04-27T04:37:36.039530Z",
     "start_time": "2019-04-27T04:36:27.369592Z"
    }
   },
   "outputs": [],
   "source": [
    "es_text_clear = preproc_es(es_texts)"
   ]
  },
  {
   "cell_type": "code",
   "execution_count": 55,
   "metadata": {
    "ExecuteTime": {
     "end_time": "2019-04-27T04:40:10.229396Z",
     "start_time": "2019-04-27T04:40:06.425374Z"
    }
   },
   "outputs": [],
   "source": [
    "es_trial_clear = preproc_es(es_trial)"
   ]
  },
  {
   "cell_type": "code",
   "execution_count": 185,
   "metadata": {
    "ExecuteTime": {
     "end_time": "2019-04-28T21:45:27.829902Z",
     "start_time": "2019-04-28T21:45:27.768845Z"
    }
   },
   "outputs": [],
   "source": [
    "with open(\"en_tokenized/clear_Eng_train.txt\",'r') as f:\n",
    "    texts_clear = [l.strip() for l in f]"
   ]
  },
  {
   "cell_type": "code",
   "execution_count": 204,
   "metadata": {
    "ExecuteTime": {
     "end_time": "2019-04-28T21:56:43.637852Z",
     "start_time": "2019-04-28T21:56:43.413831Z"
    }
   },
   "outputs": [],
   "source": [
    "## get ride of odd symbol\n",
    "for i in range(len(texts_clear)):\n",
    "    texts_clear[i] = re.sub('[…·•’”“—➵・]', '', texts_clear[i])\n",
    "    texts_clear[i] = texts_clear[i].lower()"
   ]
  },
  {
   "cell_type": "code",
   "execution_count": 205,
   "metadata": {
    "ExecuteTime": {
     "end_time": "2019-04-28T21:56:44.690480Z",
     "start_time": "2019-04-28T21:56:44.657137Z"
    }
   },
   "outputs": [],
   "source": [
    "\n",
    "for i in range(len(trial_clear)):\n",
    "    trial_clear[i] = re.sub('[…·•’”“—➵・]', '', trial_clear[i]) \n",
    "    trial_clear[i] = trial_clear[i].lower()"
   ]
  },
  {
   "cell_type": "code",
   "execution_count": 234,
   "metadata": {
    "ExecuteTime": {
     "end_time": "2019-04-29T12:22:39.669613Z",
     "start_time": "2019-04-29T12:22:39.592000Z"
    }
   },
   "outputs": [],
   "source": [
    "for i in range(len(es_text_clear)):\n",
    "    es_text_clear[i] = re.sub('[…·•’”“—➵・]', '', es_text_clear[i]) \n",
    "    es_text_clear[i] = es_text_clear[i].lower()"
   ]
  },
  {
   "cell_type": "code",
   "execution_count": 235,
   "metadata": {
    "ExecuteTime": {
     "end_time": "2019-04-29T12:22:40.930119Z",
     "start_time": "2019-04-29T12:22:40.922576Z"
    }
   },
   "outputs": [],
   "source": [
    "for i in range(len(es_trial_clear)):\n",
    "    es_trial_clear[i] = re.sub('[…·•’”“—➵・]', '', es_trial_clear[i]) \n",
    "    es_trial_clear[i] = es_trial_clear[i].lower()"
   ]
  },
  {
   "cell_type": "code",
   "execution_count": 236,
   "metadata": {
    "ExecuteTime": {
     "end_time": "2019-04-29T12:22:46.624675Z",
     "start_time": "2019-04-29T12:22:46.603777Z"
    }
   },
   "outputs": [
    {
     "data": {
      "text/plain": [
       "['ahaa brevard county florida',\n",
       " 'sleek black user toronto ontario',\n",
       " 'sunny  s face asking me mean leaving abuela abuela ️',\n",
       " 'with amy years ago tbt philadelphia museum art',\n",
       " 'you know picked good husband brings slurpee blessed',\n",
       " 'welsh siblings take unc university northern colorado unc',\n",
       " 'i tv today lakers media day season im the',\n",
       " 'new vlog chiefobivlogs this one i made jidennas the let out ft',\n",
       " 'womancrushwednesday woman heart amp soul amp i thankful every moment have',\n",
       " 'family golf outing user user user',\n",
       " 'drink coffee make up girl just don  t push off',\n",
       " ' mixtape coming soon  user university windsor',\n",
       " 'puppy love scooby parchita ️ mybabyisinlove love central park manhatan',\n",
       " 'thanks tatianna coming ️ ️ ️ hair mywork woman blowdry haircut hairstylist',\n",
       " 'the new omid salon cool shoreh cooler omidsalon shorehshoreh',\n",
       " 'when highlight day kiss mom ️',\n",
       " 'last nights memories captured escape fate i prevail',\n",
       " 'when girl cant reach top shelf got tall guy loudoun county virginia',\n",
       " 'good morning the shop open dont get cut rest get cut best barber',\n",
       " 'come get haircut today mjbarbershopca chill people chill vibe jimmy mj barbershop',\n",
       " 'live dreams usa travel holiday america traveler universalstudios universal',\n",
       " 'twas lit night fam rogersville missouri',\n",
       " 'im tryna see br homies i pull isupportjawuan baton rouge louisiana',\n",
       " 'currently rare extrainsta jalibarnes brooklyn bowl',\n",
       " 'hey user mygirl fasterhorses lifeisgood redneckweekend michigan',\n",
       " 'repost user manus shot incredible refs think went in user',\n",
       " 'see light back school special buy mins get free week sunbuy mins',\n",
       " 'even keep trill day peel',\n",
       " 'dressed red sweetdamescocomallowbuzzfeast dessertlover desserttable nomnomnom',\n",
       " 'veterans day memorial campus veteransday memorial merica saddleback college',\n",
       " 'chevy bel air weekend buckskin mountain state park user carshow',\n",
       " 'lopen lopen lopen ️ dontstop jamesvincent lawrencekho brooklyn new york',\n",
       " 'first time trying persian food fam rayhoon persian eatery user',\n",
       " 'regrann my fav matrixcolor salonstudiosandacademy',\n",
       " 'there beauty hidden weeds ️ rotarynorlin park',\n",
       " 'thankful guy flyinghightoday airoplane user',\n",
       " 'because want em los angeles california',\n",
       " 'bang muay thai sort night lil ninjas grown ones air conditioner busted awhile',\n",
       " 'happy thofjuly happy4th everyone us army military veteran santa monica california',\n",
       " 'user we wanted share byu legends charity night tomorrow user',\n",
       " 'midweek session at light las vegas with user mandalay bay hotellight beach club3950',\n",
       " 'just want take moment welcomecorey reilmannto team so glad on',\n",
       " 'happy birthday hubs craddlerobber damnproudofit jthrall88 top',\n",
       " 'i didn  t want anything bday but girl friend surprise new jiu jitsu gi thank',\n",
       " 'birthday shots at user pittsburgh pa',\n",
       " 'oh snap suns out guns outcheck weeks instructional video make sure to',\n",
       " 'take break toronto ontario',\n",
       " 'hatchet girls dallas thing ️ ️ ️ ️ familylove happyjesshatchett meandmom twinsies',\n",
       " 'happyjulia trying new look user south inglewood',\n",
       " 'back lab w user user x user cut mountainside studios',\n",
       " 'best spanish food experience user ️ en cúrate',\n",
       " 'i like all moxie vtcountrystore labordayweekend the vermont country store',\n",
       " 'user hangin kangz user many',\n",
       " 'user got sauce like ross but i got saucegod guccimane lafleur',\n",
       " 'sure feels good love someone hadmeathancock the sycamore at',\n",
       " 'happy saturday everyone we currently looking yummy cold dessert bc its',\n",
       " 'thank mother nature bonus weekend goodbyesummer17 ',\n",
       " 'happy holidays merry christmas bestofthebest staff user',\n",
       " 'end summer sale we clearing summer faves make room coming',\n",
       " 'west oak coffee bar',\n",
       " 'confusion level le claire iowa',\n",
       " 'the baylors morning flow meditation see nyc tonight thebaylorproject',\n",
       " 'another fashionshowhost gig down this always one favs sharing fabulous',\n",
       " 'hes discovered put hands pockets sochill zoo',\n",
       " 'house full kiddos today more usual fullhouse',\n",
       " 'post soulcycle retox cowgirl seahorse',\n",
       " 'home w two favorite people ️ hoboken new jersey',\n",
       " 'click link bio see s last nights user whenlovekills screening',\n",
       " 'the force strong one flippers pinballmachine pinball starwars',\n",
       " 'beautiful neutral spine curves much strength around it alkalignforlife strength user',\n",
       " 'sisters misters axoucr rancho santa fe california',\n",
       " 'marcianne thanks smile never leaves face tqm loveandhappiness smiles amor ',\n",
       " 'im sucker baby blues guy sure catch eye the ohio state university',\n",
       " 'pull zip user boston massachusetts',\n",
       " 'praying favorite city today amp everywhere else affected hurricaneirma ️ charleston',\n",
       " 'sa poko rivew tplpl fort wayne indiana',\n",
       " 'love powerrangers denver colorado',\n",
       " 'she say boy yo ass went sleep like ready video hell night ',\n",
       " 'squadup user pics event facebook peep page ️ stay tuned',\n",
       " 'repost urbansvintagecelebrateblackwomen long overdue tarajiphenson maryjblige',\n",
       " 'happy st hot stuff ️ ️ detroit michigan',\n",
       " 'happy monday walmart columbus airport thruway',\n",
       " 'user photographers user afterbreastcancer shethrives portraitphotography',\n",
       " 'ogden point october nd tour buss ready marketonthepier ogdenpoint',\n",
       " 'love ️family mom brothers the cheesecake factory',\n",
       " 'i know forever exist life ill find next ️ abandon',\n",
       " 'you cant really tell but were in yosemite stoked part the',\n",
       " 'when life gives chickenyou make dinner thanks another wonderful meal greenchef try',\n",
       " 'mix crowd love yuh song bredda user user user repost user',\n",
       " 'miss u gorillaz best night life july10 air canada centre',\n",
       " 'summer may coming end summer vibes year round west side ️',\n",
       " 'first time disney disney cinderellascastle disneyworld magickingdom dragonsf17',\n",
       " 'so proud atlpride pride piedmont park',\n",
       " 'i good times home gym need purchase boxing gloves fitmom',\n",
       " 'drug dealers theses days play check clip youtube red pilot snap',\n",
       " 'goonies user newmulabudy user user slickmix shits fire next hit love',\n",
       " 'love veterinary medicine ohio',\n",
       " 'merry christmas user hope guys wonderful day family ️ ️',\n",
       " 'merry christmas mee mee i god bless lenoir north',\n",
       " 'user i ️ holiday party it  s always blast maryland science center',\n",
       " 'when front shot work on bahama islands',\n",
       " 'i think officially say hair color brick water street',\n",
       " 'its going amaziinngggggg prom season check sneak peaks snap ',\n",
       " 'vts back towwwwwn saturdaynight wherewereyoukate longdistancebffs cowgirl',\n",
       " 'mustang panther cheer goes cowboys stadium ️ mustangpanthercheer user',\n",
       " 'we ️ community came help fix rebuild this',\n",
       " 'happy4th america glenn ligon  s double america marcianoartfoundation marciano',\n",
       " 'shout user showing commaltshift federicosolmi link bio ',\n",
       " 'eyelashvizion client user user user user lit user',\n",
       " 'today celebrate you mamma ️ miss much happy',\n",
       " 'because i miss ya lots grateful always checking me see ya were',\n",
       " 'happy fourth july free brownie pop mk tunnel help nasty shift',\n",
       " 'backyardcampfire familyfun a perfect end wonderful holiday weekend great job the',\n",
       " 'next up chopping block true og wax you definitely staytuned way to',\n",
       " 'happy birthday kristinanikolovaa ️ i miss you have blessed one jwsinusa sjwanderlust',\n",
       " 'today good day amd',\n",
       " 'pulled brother user bday event bar louie',\n",
       " 'stop tomorrow check beauties ️ toad hall antiques',\n",
       " 'our westport studio got us like westport connecticut',\n",
       " ' f ame   famous  consequence effective user what',\n",
       " 'ldf live user user ldfmusic funk postfunk brooklynbowl',\n",
       " 'instagram id like introduce kaleikaumaka he ui',\n",
       " 'lunch way home via meandering way thru vermont ️ spiral press cafe manchester center vt',\n",
       " '️dallas bound declare conference faves declareconf',\n",
       " 'wolfiemodeling patriot gram happy4th freedom america eagle',\n",
       " 'bday apple pickin wmy beauties blessed smithfam smithtribe',\n",
       " 'lake days great days ️ medina lake',\n",
       " 'love shot my girl camera user toronto ontario',\n",
       " 'with jeffloomis grande coffee frap beautiful san',\n",
       " 'go go go missuniverse indonesiabest luck user ️ ️ ️ miss universe planet',\n",
       " 'the real reason i shoulder presses standing alphasquadbodybuildingcom',\n",
       " 'two favorite people new book my heart swelling ️ thank pantsgriffler',\n",
       " 'these aebelskivers die served lemon curd ligonberry jam broder nord',\n",
       " 'oscar friends dog toocutetuesday las vegas nevada',\n",
       " 'just in striped vintage wool wool othe west arctic blanket portland or made by',\n",
       " 'supreme playboy merrychristmas hypebeast thanks baby thornton colorado',\n",
       " 'lol this funny pfit360 fit fitfam squats fitness bodybuilding',\n",
       " 'low fidelity low frequencytheblackbox5280 user alllo',\n",
       " 'woo hoo brfrunsquad house waiting run ocfair5k best race announcer',\n",
       " 'now ever called activate engage love muscles i am',\n",
       " 'en bethesda terrace fountain',\n",
       " 'dinner bestie columbia mall',\n",
       " 'this week user got user talking things user and',\n",
       " 'best thing shows lizzycooperman getting lovenote ️ hollywood improv',\n",
       " 'natural makeup today engagement pictures today sweet friend amp bride be ',\n",
       " 'family fun educational day american museum natural history',\n",
       " 'that one time i visited user storefront it wmu sneakerholics bapeforsale',\n",
       " 'office life ️ indoorplayplace roughlife firsttime user',\n",
       " 'unforgettable trip route66ilmito ontheroad oklahoma oklahomacity oklahoma city oklahoma',\n",
       " 'its time start owning scottsdale arizona',\n",
       " 'oops i forgot post instagram yesterdays blog post i did write live',\n",
       " 'much love cats lexi lexington kentucky',\n",
       " 'ambition fleek glitglam glitglammed glowup thecomeup iseayou malibu california',\n",
       " 'happy wednesday flowery branch georgia',\n",
       " 'yesssssss au2017 i  m here one year missed never again ️ ️ ️ mccarran international airport',\n",
       " 'virginia surveying sharpview rehab facility helping someone usual thats our',\n",
       " 'hey arc cityjoin street team tomorrow morning go light block i will',\n",
       " 'snuggles best convos ️ love mommy daddy share us lovesweetp',\n",
       " 'how love looks like bae loveofmylife thirstythursday happiness bff goals dtla portland',\n",
       " 'happy birthday big bro ramalldoe i love you user',\n",
       " 'so much eye candy user user nyfw user user',\n",
       " 'that quick kickbacks gastropub',\n",
       " 'new york love ️ thanks pepol waldorf astoria new york',\n",
       " 'my morning devoquiet time speaking loudly heart ️ thejoyofintercession',\n",
       " 'it  s gorgeous day horsetooth reservoir nofilter ️ horsetooth reservoir',\n",
       " 'little guy made day ️ ️ ️ pennsylvania',\n",
       " 'they see pictures say goals golden nospraytan justcoconutoil university kentucky',\n",
       " 'hey hey hey hey lets go state kansas state university',\n",
       " 'national wildlife federation knit sweater size m purchase store email shoprumorsrva',\n",
       " 'riding dirty first selfie texas canyon rest area i10',\n",
       " 'shook mandown bellflower california',\n",
       " 'i blessed enough able cop attire user week bro is',\n",
       " 'best fishing trip year mvpcs mdogtheinexperiencedfisherman partyboatskipper',\n",
       " 'enjoy life myrtle beach south carolina',\n",
       " 'visiting family always ends trip somewhere inspiring user user',\n",
       " 'queens fratchella huntington west virginia',\n",
       " 'date night xscape concert ️ chene park detroit',\n",
       " 'lost mountains user cristianherreraa timmybrundidge malibu creek state',\n",
       " 'trying express sentiment relation me myself amp i failing miserably cape sod',\n",
       " 'my youngest boys playing dance switch phantom zone',\n",
       " 'early start means early finish sams club',\n",
       " 'supporting daughter change worldlaslutwalk2017lovemygirls slutwalk la',\n",
       " 'braid king vol house blues san diego',\n",
       " 'a dozen red roses thank dan wolfe mountain entertainment amp private school',\n",
       " 'happy friday photographer belladonnaphoto travelingmodel ebonymodel dallasmodel',\n",
       " 'jamming bitch man lol worldwide lick brickmansions k lovethesupport smbnate user',\n",
       " 'love thy brother yall go follow brudda carterboyvi bout paper far back as',\n",
       " 'did enjoy cow appreciation day much did double tap ️ super',\n",
       " 'thankful blessed durham county north carolina',\n",
       " 'spin favorite place pingpong skills user user user',\n",
       " 'woke like ️ ️ ️ ️ ️ glenmoore pennsylvania',\n",
       " 'weeks im lit slaywithzay winstonsalem north carolina',\n",
       " 'when osh gosh coworkers desk postits birthday katebutter downtown',\n",
       " 'my favorite love story 13 ️ gonzalez ngj anniversary',\n",
       " 'back old stomping ground ️ miami beach florida',\n",
       " 'great show tonight thank san francisco ️ the masonic',\n",
       " 'a harry potter fans dream come true the wizarding world harry potter universal',\n",
       " 'street style samsung galaxy s7 activemaul gsxr gsxr750 gixxer bikeogram',\n",
       " 'well hubby said i  m way more fun he  s tapped since can  t get',\n",
       " 'granny ️ whyte hotel rooftop bar',\n",
       " 'recalling visit san diego siri autismawareness documentary as soon',\n",
       " 'if only los angeles california',\n",
       " 'great new book user holyspirit the one who makes jesus real such fire this',\n",
       " 'nice day wild night ora italian kitchen bar',\n",
       " 'a beautiful place spend weekend greenacresatthebay virginia eastriver',\n",
       " 'starting miss summer already user sailmontauk montauk the montauk yacht',\n",
       " 'atlantic city new jersey',\n",
       " 'family important and family like mine even picture taking becomes an',\n",
       " 'hours agowhat difference day makes the sun ️ rising today in',\n",
       " 'user heart ️ what great event put interboro  s cheerleaders a',\n",
       " 'its looking lot like winter top lookatook winteriscoming jhdreaming jacksonhole',\n",
       " 'im hungry zoocell wisconsin rapids wisconsin',\n",
       " 'ethereal beauty friend user wearing look upcoming ss18',\n",
       " 'imacoolkidcuzmygirlfriendisolderthanme happy th birthday love bdaygirl keystone south',\n",
       " 'independence hall united states history travelgram traveling traveler travel',\n",
       " 'positivethoughtsfromme gallatin tennessee',\n",
       " 'tbt leonardmayo chestnut street grandpa ruben amp',\n",
       " 'stay close people feel like sunshine ️ shot user model modelling',\n",
       " 'when actin confused charlotte north carolina',\n",
       " 'hey buddy sun bright ️ kappa sigma florida state university',\n",
       " 'cocoa beach florida',\n",
       " 'sisters hanging waiting boys college coker',\n",
       " 'in love housemates room ️ ️ ️frazer332 university findlay',\n",
       " 'one favorite sets lib xx lifeisbeautiful thexx latergram',\n",
       " 'the scandalrandall put time out capturing photo literally downtown houston',\n",
       " 'so many us forget important is saywhatyoufeel repost psychologyandlove ',\n",
       " 'my fall pics better fall pics jk fall pics pretty nice except you',\n",
       " 'morning chats brooks ️ omaha nebraska',\n",
       " 'happy friday th a witch  s lucky day smudge metaphysical',\n",
       " 'massimolandi washington washingtondc blog blogger st patricks catholic church in',\n",
       " 'williamsville new york',\n",
       " 'my first visitor its great week tres hombres chico',\n",
       " 'ugly sweater video adcontact us today marketing socialmediamarketing ',\n",
       " 'it  s time i bring back originals we fly tag mention user in',\n",
       " 'isnt gorgeous selfie snapchat stockyards girlfriends fun dancing the cantina',\n",
       " 'gravity sure bringing us rain last night ily jm the cynthia woods',\n",
       " 'something i done years i checked actual paper books library user',\n",
       " 'photography photo portrait studio nyc latest portrait photographer philabusters user',\n",
       " 'its good back penance shoot finally wrapped filmmaking film acting penance user',\n",
       " 'you know i talented you thank you farmhouse pottery when i went',\n",
       " 'cedar tongue groove roof installed cedar vanlife tongueandgroove vanbuild',\n",
       " 'found home gamma phi beta ️ gamma phi beta kansas state',\n",
       " 'girl time texans newyorkers christmas hometown friends happyholidays ️ el divino dining',\n",
       " 'looks like im gon na need big glass water usana25 usana17 usanalifestyle salt',\n",
       " 'hell yea user killin tonight user firebeatz',\n",
       " 'my three favourite boys spokane washington',\n",
       " 'what a night win bedford way get done bk ️ user',\n",
       " 'datenight ️ fiddlers green amphitheatre',\n",
       " 'neph st vincent carmel hospital',\n",
       " 'another one cuz cute dolphin mall',\n",
       " 'wishing everyone safe happy fourthofjuly gorillastudiosfourthofjulyweekend ',\n",
       " 'a warm sky start cold day wackywalt weekend skivermont sugarbush sunrise tgif',\n",
       " 'it feels good finally birthdaygirl finally21 callmeprettyandbuymebeer',\n",
       " 'those cheeks i grateful having',\n",
       " 'tis seasun happy4th miramar beach florida',\n",
       " 'i think i found new spot visalia im back',\n",
       " 'vacay vibes ️ clubmed florida club med sandpiper bay',\n",
       " 'me amp silly child ️tbt throwbackthursday princess prek instagood daddysgirl user',\n",
       " 'sweetheart takes date party sigma chi kent state',\n",
       " 'happy holidaze pleasedonotdisturb alwayspolite chanel therealreal charlotteronson',\n",
       " 'this beauty latepost friends lsdshow ohearnspub funny ohearns pub lomita',\n",
       " 'birthday weekend recap hardhittinharry birthday part brooklyn edition images courtesy of',\n",
       " 'yes please i gladly accept top up uniqlo usa',\n",
       " 'fashion update larges sold out get small medium now made the',\n",
       " 'these two loves hang together gpopampgsonlovethempartofmyteam delaware',\n",
       " 'disneyworld ️ walt disney world',\n",
       " 'played lost min made money back cashout next',\n",
       " 'date night celebrating mini all homes deschutes county',\n",
       " 'excited back playing user friday september nd details tba ',\n",
       " 'trvpped on halloween jaykode this biggest halloween party year ticket',\n",
       " ' second star right straight til morning  findingneverland orpheumtheatre',\n",
       " 'this skylight union station tunnel imagine ️thursday sun sunday',\n",
       " 'this place beautiful made stones crystals shells grottoofredemption iowa user',\n",
       " 'back plane excited trip one layover paradise ️ ',\n",
       " 'murica concord california',\n",
       " 'man  s hot en parkdale village',\n",
       " ' i want forget you it  s easier way  models meleahclinton pmbrz captwhatshisname',\n",
       " 'the sure failure quit if want super successful settle',\n",
       " 'couldnt asked better shooting partner user go check if',\n",
       " 'my baby h ️me thank you thank all prayers god is',\n",
       " 'proud new owner platinum ettl auto flash excited get take some',\n",
       " 'our trainers average joe  s gym accepting new clients halloweenchronicles hossfit',\n",
       " 'love ladies communications committee life cxc4ever smpsny tme17 marketing',\n",
       " 'a trip webster falls kiddos ️ websters falls',\n",
       " 'welcome happy new year clients friends amp supporters may year be',\n",
       " '️ gull meadow farms',\n",
       " 'visited alishas dinner summerville sc sc',\n",
       " 'our lookbookcamping ss18 user out ️ thanks everyone involved user',\n",
       " 'i think pics toronto cn tower finally went top tourist',\n",
       " 'coastin dennis port massachusetts',\n",
       " 'your life story transition cactus city california',\n",
       " 'regranned user t o n i g h t lovebreak new venue alert gracegiving',\n",
       " 'swipe more pics us celebrating years thecitychurch known churchome',\n",
       " 'exactly ain  t about the flag stopit understandtheprotest',\n",
       " 'who said go darker fall beforeandafterjessicaalyse iamjessicaalyse user',\n",
       " 'vibing balance right user second floor suite soundtrack shit',\n",
       " 'golden light this golden beauty available shop a total fall statement piece',\n",
       " 'loving lingering summer temps ️ user coutureroomsouthwick latesummer',\n",
       " 'the first many energiatour jbalvin',\n",
       " 'finally monday new video channel sharing faves spots queen street w',\n",
       " 'wowwwwwww hermès birkin offthis sundayvip',\n",
       " 'find friend make laugh life better or least one can',\n",
       " 'yes fact christmas card siesta key florida',\n",
       " 'game days better i can  t remember west virginia university',\n",
       " 'christmas savannah broughtonstreet broughton street',\n",
       " 'order shipped drone k camera kean university',\n",
       " 'yes please oysters nola neworleans yum food foodie charbroiled oyster yummy',\n",
       " 'track day ️bimota ducati motorcycle sundayfunday summit',\n",
       " 'happy st birthday girl middle pink sandwich thankful i met this',\n",
       " '️all portraits ️prekhaleirebekkahsciencehallelementary user',\n",
       " 'they  re coming get you barbara our bath bombs back better ever click the',\n",
       " 'catalinasworldmenoriesandlessonsgaylekingny ️ new jersey',\n",
       " 'wildflowers fences barns mountains ️ grandtetons moultonbarn moulton barn',\n",
       " 'wolfpac fighting corruption iowa desmoines user maebella user',\n",
       " 'this ️ ️ ️ ️ ️ tahoma athletic club maple valley',\n",
       " 'so good seeing fckingdaddie draggirlsclub theonlybootz queenb trans cuties mixed',\n",
       " 'if get holiday mood nothing user',\n",
       " 'great victory reds great pic favs bmo field',\n",
       " 'happy holidays salvationarmy presidentbbrandonkohl vice presidentajmajino damnproud user',\n",
       " 'arizona always takes breath away arizona williams arizona',\n",
       " 'now i could run like wind blowsrunforestrunfriday team ️ pier',\n",
       " 'some brooklyn love adam banana aka christine ️ dumbo brooklyn',\n",
       " 'myson ️ myworld park rainbow girard park',\n",
       " 'e r r c h r newspring  s newest classy christmas card newspring church',\n",
       " 'i sea you seattle ballard seafood festival',\n",
       " 'totally legit holiday tandoorichicken tandoor chicken spices bhanus bhanusindian',\n",
       " 'my man eminem piiiisssseeeddd lol hiphopcypher bet eminem freestyle slimshady',\n",
       " 'my wedding date vegas las vegas nevada',\n",
       " 'look sweet face pippa dogmom napping boxermix brindle maryville illinois',\n",
       " 'user makes entirely much kissminiconcert mf a sharp user',\n",
       " 'staying  pulse  hair amp hair color celebrating ultraviolet',\n",
       " 'new neighbourhood ️ mural one buildings byron peck ivo koytchev the',\n",
       " 'book promo tour marketing contact us today561 marketing entrepreneur ',\n",
       " 'ever since started dating danielle vikings record girl keeper love babe ',\n",
       " 'my life everything new york new york',\n",
       " 'happy birthday bestie wish hasn  t months since i  ve seen it  s ok bc',\n",
       " 'went hack field this old man still it ',\n",
       " 'the albums the annex',\n",
       " 'good morning sunshine ️ travelling america california',\n",
       " 'iced coffees made better almond milk thejeffreynyc thejeffreydrinks',\n",
       " 'maria usopen tennis sharapova kenin nyc picoftheweek picoftheday photooftheweek',\n",
       " 'happy independence day deer creek oklahoma',\n",
       " 'early morning flight club exit row ️ hartsfieldjackson atlanta',\n",
       " 'long beach longbeach twitchcon twitchcon2017 cali california usa city cityscape',\n",
       " 'new photos comin peeps saraherzogphotography sadiehaglundphotography lakeview',\n",
       " 'miss girls deltona florida',\n",
       " 'hoops mania villanova stadium',\n",
       " 'friend fun fitness connection',\n",
       " 'happy birthday reecie boy love ️ family reece18thbirthday summer2017',\n",
       " 'are hoops back style got new earrings im love atwater village los angeles',\n",
       " 'my god mae he  s already dead leave alone ridgeland mississippi',\n",
       " 'pink attitude model user ph user make up',\n",
       " 'my sweet old man watching football us ️ ralph catsofinstagram northwest oklahoma',\n",
       " 'play watch time user dave amp busters',\n",
       " 'great shot show user w user amp user emrbyriddle user',\n",
       " 'amazing christmas display made clerical team i can  t take credit haha otip',\n",
       " 'all i need lord user texas usa cultomaravilhoso tne iworship em christ',\n",
       " 'rosalyn my acura rl always gets best parking spots rockstarbeetle grc tannerfoust',\n",
       " 'look picture lord blessed us today he faithful ️ ignitelife pacific',\n",
       " 'carolina bbq sauce mfkn slaw i cant even believe nc artists hating',\n",
       " 'oh yea so me khi knows better say words iwillburstintosong tryme user',\n",
       " 'highbridge day so to vaderbigslimey truly highbridge original highbridge',\n",
       " 'beautiful evening fire pit beautiful view ️ browns beach house',\n",
       " 'the boys amp i waiting biz gets face painted also loving my chums beard ',\n",
       " 'fashion never sleeps model user location bethesda',\n",
       " 'oneness ️unidad oneness love cdmx puertorico miami sosvenezuela venezuela usa',\n",
       " 'come come come u2 u2 joshuatree ghinokuma firstenergy stadium',\n",
       " 'i wanted post too merry christmas happy two years ️ i love',\n",
       " 'check pamevela looking beautiful burgundy gown california',\n",
       " 'cuzznz we alwayz have fun cuz aint no fun if the homeyz cant have none',\n",
       " 'tapshoes millerandben millerandbentapshoes tap tapdance project dance company',\n",
       " 'so last night still giggling show performance theater vaudezilla burlesque',\n",
       " 'abs steel babygymnast keavyjade lilgymnast strengthofabear lilgymnast gymnastics',\n",
       " 'detail latest installation underthesea images printed upcycled',\n",
       " 'happy anniversary ️ im huge fan talent creativity director of',\n",
       " 'despite someone take photo us i think shitty selfie turned better ️',\n",
       " 'dinner coasters dessert two beauties greatnightout batmantheridetwice',\n",
       " 'i wonder would feel transformed swanhappy tuesday',\n",
       " 'full video drops pm subscribe youtube channel mysonnenygeneral user',\n",
       " 'this shit here whoooo my guy user dropped insanely dope record go',\n",
       " 'home sweet home got apartment finally settled in only week later ready this',\n",
       " 'glad i got somebodys undivided attention north philadelphia',\n",
       " 'grow x user the rockaways',\n",
       " 'look amount growth months and continues grow i used silkshampoo amp',\n",
       " 'its always fun cradles crayons chicago',\n",
       " 'i post this ️ the caption belowmrjack arrives closing night film thisismeg',\n",
       " 'in addition everyone  s post sunrise morning photo eagle',\n",
       " 'downton abbey the exhibition ️pt1 dowtonabbey',\n",
       " 'tonights lineup we take stress pay less tag',\n",
       " 'peace love amp lolla jealous sisters spending weekend chicago',\n",
       " 'riverfront athletic club',\n",
       " 'living prayer fontainebleau miami beach',\n",
       " 'keepin sexy classy curvehugging velvet lace teddies shop link bio',\n",
       " 'thanks amazing katieconradxo i love much the hair hut amp co',\n",
       " 'there something good fire it  s cold cozyhome',\n",
       " 'happy nationalboyfriendday i truly know id without',\n",
       " 'today last day school close freedom ️ready learn our',\n",
       " 'one before tecumseh dark horse brewing co',\n",
       " 'merry christmas tacoandtheman sister sadie brother mojo pugsofinstagram',\n",
       " 'new producedby007 thatsmyshitshit newsong cantclapback featuring sharemymusic',\n",
       " 'directing episode chicago fire big day chicago river w amazing',\n",
       " 'user new york',\n",
       " 'came home work this love samuel thanks for',\n",
       " 'i forgot bars kurupt had flashbackfridays realhiphop user',\n",
       " 'thankful two friends always take shot the grotto capones',\n",
       " 'we almost died tonight user black ink atlanta',\n",
       " 'i lied yeah im screwed clairerebekah mylifeisover rutland vermont',\n",
       " 'getting back morning devos lake morningboost',\n",
       " 'pure bliss  last one on here look great  amazing editorial shoot',\n",
       " 'kisses birthday girl freehold high school',\n",
       " 'beauty model user withloveceeclothes user vintage pdx fashion',\n",
       " 'new video meet cast a raisin in the sun ️ performances start september ',\n",
       " 'making feel look special special day user chi35 chicago',\n",
       " '️ the soda parlor',\n",
       " 'break me from the cagerenegades frequencerz amp bass chaserz user',\n",
       " 'magical hot coco bed yes please why magical i  m willing share that',\n",
       " 'fun family day story indiana',\n",
       " 'that music though three muses',\n",
       " 'dat lacing user rubæs nitro friyay craftbeer woodlands backyard',\n",
       " 'oh my lol toysrus',\n",
       " 'it weird spirit rally everyone today shrewsbury high school',\n",
       " 'everyday best day ️ inglewood california',\n",
       " 'wonderful cake so realistic stalbans queens newyork',\n",
       " 'love catching bestie laraflow11 girls friends newjersey home bestfriends',\n",
       " 'bevels always must itsadancerthing citywalkla universal citywalk hollywood',\n",
       " 'grateful sunshine ️worldmade atlanta georgia',\n",
       " 'all work and no play makes jack a dull boy user las vegas nevada',\n",
       " 'why i boston within one minute walk other i see',\n",
       " 'i think us remember taking picture by far one best events went',\n",
       " 'love i makeup today buena park california',\n",
       " 'i need nutcracker marshalls webster tx',\n",
       " 'so happy finally got see dearevanhansen mazel tov user success such a',\n",
       " 'my lil foot indian harbor marina',\n",
       " 'new video at pm ocoee florida',\n",
       " 'soccer tables tennis two heads soccer ball ochilink broward county florida',\n",
       " 'bubbles friday mark end busy week beginning month spot moet',\n",
       " 'july vegas champstradeshows lit user bigassjoint cannabis rawpapers clouds',\n",
       " 'just nick time tbt my mom probably said act like like other user',\n",
       " 'happy st birthday cylus harrisonburg virginia',\n",
       " 'what better way celebrate national nachos day nachos addisons user',\n",
       " 'happy birthday mom ️ ️ ️ north york',\n",
       " 'style lab edwing dangelo ss18 a m e r i c a n a girl power edwingdangelo springsummer18',\n",
       " 'good morning shieyts still lmao tbthursday sacramento california',\n",
       " 'follow up happythirdofjuly austintexas david powell clinic',\n",
       " 'still idea people think were twins lumberton new jersey',\n",
       " 'my city newyork nyc manhattan new york new york',\n",
       " 'cousins blood friends choice ️fourthofjuly',\n",
       " 'weekend close user barre abtfallseason kathrynboren american ballet theatre',\n",
       " 'new hair dis snapsawitfirst feelingblue butterfly salon amp',\n",
       " 'im sorry beautiful aesthetically pleasing johns texmex',\n",
       " 'hard work real life palouse moscow campus',\n",
       " 'my ️ chrisbrownofficial teambreezyforever teambreezy v103winterfest philips arena',\n",
       " 'the king back user theunstableneutrons everythingnow the garden',\n",
       " 'tour feelz user keenemachine user user user user',\n",
       " 'love girls love mans also i splits a',\n",
       " 'these favorite things floyd stadium',\n",
       " 'beautyandthebeat2017 lit thank jadaap clientselfie glambycrystaljones we',\n",
       " 'i ️ grilling camp coats',\n",
       " 'all i want christmas ️ brady texas',\n",
       " 'florida vibes st pete beach florida',\n",
       " 'a beautiful friday evening minneapolis onlyinmn fall nokomis minneapolis',\n",
       " 'coloring cookies kids congrats louise stitching extradinar at',\n",
       " 'start right me monday pm4pm dremack214 nyeweekendblockpartymix k104',\n",
       " 'mi vato yo user hollywood bowl',\n",
       " 'friends seattle seattle washington',\n",
       " 'feeling super canadian ️ toronto ontario',\n",
       " 'smokee everday paevito vaps vaporizador pilacovaps gpen em new york new york',\n",
       " 'life reflect back us already within minds sacred morning mediation on',\n",
       " 'go dj awards houston red carpet status user houston blushgang godjawards match ',\n",
       " 'miss herrr my beautiful neice my brother luckyyy i waaant one lanham maryland',\n",
       " 'summer desert ️palmsprings summer palm springs california',\n",
       " 'always amazing back chapel hill familyforever gameday goheels unc chapel hill',\n",
       " 'user you right pitching you best pitcher lakerlore',\n",
       " 'and relax thornberry creek lpga classic',\n",
       " 'lil preview whole song ready next week king diamonds miami',\n",
       " 'when try take selfie someone foot shorter user ',\n",
       " 'dope girls ️ ️ ️ ️ dopequeens kings theatre',\n",
       " '️ the meadows music amp arts festival',\n",
       " 'unplanned bonding night alameda sistahs super duper love them happiest birthday ate glad patient',\n",
       " 'mamas babies ali i animal lovers feminists care the',\n",
       " 'with beautiful angeliicajane user new york new york',\n",
       " 'cant stop bangn user daddyfatsacks sirluciousleftfoot atl souf boomiverse user',\n",
       " 'l i b e r a t o r nicholasbhunt jan seaport district nyc',\n",
       " 'pho that all carry on pho wednesday phowednesday photastic delicious',\n",
       " 'blueberry banana bread this time year maine blueberries go everything gorham maine',\n",
       " 'getting older perks its ️ day my new commandment i stay indoors amp work',\n",
       " 'tonight kicking resilientlove series join us host sharon beudgforth for',\n",
       " 'notsolittle baby girls colesville maryland',\n",
       " 'taking easy dc theres lot take us capitol building washington dc',\n",
       " 'thats i ️wtf user work train fight',\n",
       " 'tonight hollywood this little light mine i gon na let shine ️ i sharing a',\n",
       " 'when whole team lit crownheights brooklyn familia mmf28 zeiss the bklyn combine',\n",
       " 'appreciation post bffs blossom music center',\n",
       " 'notre dame stadium',\n",
       " 'color red makeup user hair user nails shespolished user',\n",
       " 'marry christmas family yours ️ familia bassprosanta bass pro shops',\n",
       " 'st patrick  s cathedral legendary i️ lit candle nyc newyork merryandbright',\n",
       " 'xk hotbyz audio teamss monte carlos complete jl audio system amp custom consolestay',\n",
       " 'happy sunday unreal toronto style nathanphillipsquare torontolife modern mua blessed',\n",
       " 'every saturday night tavernon1st the tavern st',\n",
       " 'ok christmas start ajax ontario',\n",
       " 'some significant others pack brown bag lunch mine packs brown bagged beer barrierbrewing',\n",
       " 'izzie came visit candid durham north carolina',\n",
       " 'paper mart inc',\n",
       " 'i wan na take time riverbend music center',\n",
       " 'thanks self atlanta deli',\n",
       " 'blizzcon family anaheim convention center',\n",
       " 'when best friends get married one post enough shesaidyesbrega new bedford',\n",
       " '️ ️ ️ rickymartin rickymartin рикимартин daddy papa kids family los angeles california',\n",
       " 'american woman happy th july phoenix zoo',\n",
       " 'abandon thought cant greatyou born win user eighth amp',\n",
       " 'rise shine chicago ️ the wrigley building',\n",
       " 'it  s lit csu csuhomecoming csuhomecoming2k17 coloradostateuniversity tearemasunder',\n",
       " 'chloe slevin snuggles ️daughteranddane lifewithslevin danesofig sleepy danelife',\n",
       " 'user bringing folk church nuyorican fridaynightslam the nuyorican',\n",
       " 'black excellence black brilliance adcolor cometogether blackexcellence blacksintech la',\n",
       " 'gucci linea tote on sale ️ nordstrom downtown seattle',\n",
       " 'car ride kisses jax hijaxed southwick massachusetts',\n",
       " 'been getting lot questions lately im qampa next vid comment below',\n",
       " 'simone user brazil originally currently live vero beach fl usa mom ',\n",
       " 'matching your ootd literally your location a do dont found beach print skirt',\n",
       " 'its officially christmas dec bens maison',\n",
       " 'oh lawd i love carm cheesin loveyoumom whereintheworldiscarmensandiego coda philly',\n",
       " 'shop now40 hairbeat wavy holiday season available site',\n",
       " 'meet samantha front desk coordinator ️supermom teamoasis familytime familyvisits',\n",
       " 'bae back blog today todays post fall fashion men your',\n",
       " 'shoyuahi heaven poke pokebowl hawaiianpokebowl dtsj',\n",
       " 'america the original safe space created men guns user las vegas',\n",
       " 'search zaphena i cant wait no more feat master brain everywhere boston massachusetts',\n",
       " 'tgif carls place',\n",
       " 'it  s going downnnnn basement loadedonthego theswimmers loaded onthego',\n",
       " 'my favorite guys i forever daddysgirl amp fills guys others',\n",
       " 'open monday saturday sunday thru christmas polished chic',\n",
       " 'morning glow content day morning those',\n",
       " 'go see user movie on blaze youknownow oliver dettrick aka hustleprodigy',\n",
       " 'nj turnpike car fire mercer county new jersey',\n",
       " 'freedom happy westchester los angeles',\n",
       " 'the cheshire cat known mischievous grin jenvierck disney disneybounding',\n",
       " 'little people big pieces heart ️ ️ dollywood amusement park',\n",
       " 'one letter stole heart σσς sigma sigma sigma house',\n",
       " 'christmas eve levittown new york',\n",
       " 'saturday free day ᴍᴏʀɴɪɴɢ ғᴜᴄᴋᴇʀs coral springs fl',\n",
       " 'im loving vacation man love boyfriend vacation endlesssummer florida gayboys user',\n",
       " 'i cant express much fun i dolling user cant',\n",
       " 'zulu zinnia perfect hiking partners ️furrfam hikingitandlikingit',\n",
       " 'from big smokee montreal naldz knowthesystems ️ big smoke',\n",
       " 'doing love freedom loving happiness dnkvisionz perform',\n",
       " 'he slept user wynwood',\n",
       " 'tonight repost user around corner matherfilm la deaftalent deaf',\n",
       " 'love kids pieces ️ last time little bit together tresamigos hawaiikids',\n",
       " 'step gymstep eat mashed taters amp pumpkin pie ️thanksgiving gobblegobble',\n",
       " 'megan monday is thing it now shoutout girl for',\n",
       " 'oh i ️my city just checked intercontinental buckhead loving view my',\n",
       " 'i looking fish sea got greatest catch basicbitches',\n",
       " 'morning ️ hatteras beach',\n",
       " 'l u n e s motivationalquotes amoesto en new york new york',\n",
       " 'this guy cracks up mississippi',\n",
       " 'stumbled upon starfish lake wallenpaupack estate pennsylvania',\n",
       " 'skip mall shop small show ️ ‘ hood storewide continues the',\n",
       " 'miss spending time mom nandymaed loveyousomuch myheart',\n",
       " 'fight fire fire these bags losyorklabel sending proceeds california fire',\n",
       " 'bring us all tacos familyfun feastbeforethefeast bartaco',\n",
       " 'always dancing  user aloft tampa downtown hotel',\n",
       " 'lancetilfordphotography hampmu ttungatemakeuphairartist lukesteingruby headshot limelight',\n",
       " 'day late hbd best friend grateful i got spend you ily i miss',\n",
       " 'this beautiful wedding featured user today ️ see link profile for',\n",
       " 'roof top drinking risk good city brewing company',\n",
       " 'dont ever let someone make feel like crazy wanting deserve just a',\n",
       " 'happy birthday ginny amp shorty ️ ️ ️ ️ guacamolenyc',\n",
       " 'he made kids night this part makes indie wrestling great apw',\n",
       " 'tbt orlando fl en disney springs',\n",
       " 'last minute late hh amp diner beauties mariasol salazar forgot get photo',\n",
       " 'x40 tent leg drapes perfect outdoorevent with embracing ️ delight us',\n",
       " 'laundry day today stay tuned laundromat los angeles ca',\n",
       " 'i wanted hug ️ honsberger estate winery',\n",
       " 'redwood love muir woods national monument',\n",
       " 'can never get enough city centralpark centralparknyc nyc ny nyny newyork',\n",
       " 'thankful moments like ️ las vegas nevada',\n",
       " 'you see ️ eyes small change bitcoin they flying planes the',\n",
       " '️what journey client consistent patient went barely using inch',\n",
       " 'tbh i laughing hard tried take picture it honor speak the',\n",
       " 'my little prince ready first picture day school babydillonphillippelozano',\n",
       " 'real fav sig ep ️ the university alabama',\n",
       " 'empirestatebuilding minimodel solotrip theworldasiseeit nycspot empire state building',\n",
       " 'do small things great love ️ kindnessisfree benice dosmallthingswithgreatlove',\n",
       " 'we ️ calabash tribe customers repost plannerisma  love divine healing of',\n",
       " 'user ceviche watermelon radish cilantro microgreens dried',\n",
       " 'user we always fun rehearsals downtown san antonio',\n",
       " 'friday night ish user user studio c some guy bedstuy',\n",
       " 'yes ️ tarbell realtors eastvaleontario',\n",
       " 'the cutest mary joseph ️ ️ ️ zion lutheran school',\n",
       " 'love familytime ️ martinezroadtrip martinezfamily clampasspark beachlife',\n",
       " 'thankful the wheeler bears ️ louisville kentucky',\n",
       " 'new beauty story lovesomemagazine photography user leeichk hair',\n",
       " '️ ️ ️ ️ ️ ️ ️ ️ bloodcousins thahatdway pme pmm pml bob nomakeupgang parishiggs user',\n",
       " 'goals times square new york city',\n",
       " 'mannothot new york new york',\n",
       " 'days of christmas becoming like more days till christmas today we  re',\n",
       " 'can  t wait see user cooks up njhairstylist bellasavage',\n",
       " 'had much fun recital yesterday rockon lolx ️ stephens county georgia',\n",
       " 'thanks tommy downtown naperville',\n",
       " ' even i  m thousand miles away roots i  m home  rhode island',\n",
       " 'one fav pics aturday ',\n",
       " 'the wizards back look i ran into my girl glenda ️ user verizon center',\n",
       " 'what i told gorgeous rose gold colors help women find hope healing from',\n",
       " 'lbs months handsomeandiknowit albinopride ihuntducksandshit',\n",
       " 'happy th july brown bottling group',\n",
       " 'raises family fight country bishop',\n",
       " 'didnt see orangutans sad face sarge the bald eagle of',\n",
       " 'today really good day barren river lake state resort park',\n",
       " 'in a shits underground atlanta',\n",
       " 'knockouts every tuesday barracudaloungenyc w user pic user lighting',\n",
       " 'hit wit look hobbsvisual st pete records',\n",
       " ' user always looks good possible user',\n",
       " 'high school reunion funcie',\n",
       " 'f r o y o yogurtlandinc ️ little time determination ive reached platinum level it',\n",
       " 'this moscowmule tho bonefishgrill bonefish grill',\n",
       " 'when nature still pinup thatposetho zion thenarrows hiking pinup',\n",
       " 'authentic chicken waffles jazz brunch beingbossnola nolaeats jazz',\n",
       " 'this really stop power los angeles california',\n",
       " 'we picked christmas tree wiggins christmas town normantradition',\n",
       " 'a lovely day boat ride craig alex amp melissa onekama michigan',\n",
       " 'twinning one favs ️those former rippers ottersmatter cypress creek elementary',\n",
       " 'happy th july independenceday alcatraz island',\n",
       " 'nashville k17 add crew user user thevillage',\n",
       " 'heading see great uncle walt aunt rose im town family livelife omg',\n",
       " 'th half marathon began thanks corridorrunning',\n",
       " 'this pic completely representative temperament michigansummer puremichigan downtown',\n",
       " 'the force strong us smpmagicalmoments discoversmp lovemyjob joann fabric craft',\n",
       " 'never get tired seeing mountain lents town center se foster rd max station',\n",
       " 'santa dad delivered merry christmas indeed honda grateful freedom us both ️ at the',\n",
       " 'she engines transmissions cleveland ohio',\n",
       " 'cold world user user user',\n",
       " 'my future doctor can not wait mm dollar check dontfuckwithmyfamily lioness',\n",
       " 'firstsnow loves play user bestdayever puppylove salem massachusetts',\n",
       " 'happy th birthday stella boo i love you ️ amc theatres phipps plz',\n",
       " 'same procedure last year christmas time san francisco travel aroundtheworld',\n",
       " 'happy birthday beast im glad i convinced mom dad get another dog cary north carolina',\n",
       " 'because i sister i always best friend port of',\n",
       " 'lunchtime kissies seattle washington',\n",
       " 'sisters latergram funny mount major new hampshire',\n",
       " '️ williamsburg brooklyn',\n",
       " 'oh weather outside frightful fire delightful i place go',\n",
       " '️repost user getreposthalfway season right brand new',\n",
       " 'definitely dropping atlanta georgia',\n",
       " 'ugh i can  t get enough tiny human ️ ️ ️ oliviakayl country inn amp suites duluth',\n",
       " 'legendary scene user way upyour best memories start here',\n",
       " 'i thinking girls boring personalities sexnah bruh',\n",
       " 'burning qpr houseroofes lufc',\n",
       " 'thank coming see ️ sacred heart university',\n",
       " 'me cutie hollywood florida',\n",
       " 'happy year anniversary user ️ you princess and',\n",
       " 'yesterdays hike soothing blessed scenery like',\n",
       " 'dallas texas dallas texas',\n",
       " 'i stand religion christmas hiphop toronto ontario',\n",
       " 'morning got peach passion tea get cool',\n",
       " 'happy friday billz huntsville alabama',\n",
       " 'favorite song new york new york',\n",
       " 'avatar wait times pandora the world of avatar',\n",
       " 'snowta minneapolis l t nye new twonights yeartwo',\n",
       " 'let birthday festivities begin houstonwehaveaproblem',\n",
       " 'when light hits bride right beautiful agphotos agweddingphotos stlbride',\n",
       " 'frenchy love ️ frenchbulldog wolfkeeper university dog training',\n",
       " 'silver new white floral design ksquaredeventsmodels user',\n",
       " 'cant even take eyes take picture north brunswick new jersey',\n",
       " 'start finish good day dierksbentley lasvegas wth concert frh the chelsea at',\n",
       " 'everythings moment lets shoot photography canonphotography srkdesignz miamimodel',\n",
       " 'friday night date night ️ phat bites nashville tn',\n",
       " 'th stop appleretaillocations4months1man applecalifornia applefamily jgis53',\n",
       " 'family time always good time englewood florida',\n",
       " 'user icare2 available user tiny kick visit vapor widgets sw ',\n",
       " 'yc2 david harvey  s herdsite davidharvey newdances seattledance',\n",
       " 'more bridal style photoshoot user by yeeb art photography',\n",
       " 'rockefeller christmas tree visit amp tempted leave heather',\n",
       " 'edgeofouryouth kicking things user come hang out user',\n",
       " 'definitely enjoying particular aspect new life california swimmingindecember user',\n",
       " 'loving raw industrial architecture massmoca new building berkshires ',\n",
       " 'breakfast bergdorf goodman mom thanksgiving weekend wish i eating',\n",
       " 'just boys back yard getting little work in lovemyboys godsblessingtome',\n",
       " 'always great time krause springs',\n",
       " 'tuna amp bobby dogwalkerspdx petsitterspdx doggroomerspdx teamdgw',\n",
       " 'finished first half marathon today placed marathontraining nikezoomstructure',\n",
       " 'ballet class miami youth ballet',\n",
       " 'summer summer summertime ️cwmf jamn jefferson park',\n",
       " 'limitless user mma ufc bellator fight boxing wrestling hkickboxing',\n",
       " 'user go check spotify soundcloud mymixtapez itunes tidal',\n",
       " 'so lovely themarcjacobs stop book signing thebookmarc cookingwithzac ️',\n",
       " 'we love snap chat filters ️aelizabeth1986 user rivers casino',\n",
       " 'a random bouquet random day another reason i love much dating years',\n",
       " 'find buried somewhere pile glitter honestly summer set music amp camping festival',\n",
       " 'i successful daycare photo session today to book days care photographer please',\n",
       " 'i love picture babies ️ santa monica california',\n",
       " 'live like boss die like boss ei8htyse7en trixies entertainment complex',\n",
       " 'had try surprised see texas keymaster jordan1 yeezyboost350 iphone7 ipad',\n",
       " 'guess im thinking here yep klar thank corey stevens thebarbershoprc for',\n",
       " 'manz got 🄴 🄴🅇🄲🄴🄻🄻🄴🄽🅃 whoisjohnjeffrey arts district los angeles',\n",
       " 'eclipse2017 prospect park',\n",
       " 'great day ️ yager stadium',\n",
       " 'earlier today choppin it up wit the big bro djtayjames a lot of crazy shit on the way ep user',\n",
       " 'so blessed to be on set with such an amazing team user ️ see link bio for',\n",
       " 'second day fall degrees newyork we complaining mariapphoto hair',\n",
       " 'printing prints ️ ️ printyourphotos printyourmemories printyourart largeprint',\n",
       " 'choochoo train coming it going cardio abs kind day but',\n",
       " 'love picture nephew amp parents ️ ️ ️ tracyldunn',\n",
       " 'this event gets award dopest dancers got ta say definitely hating job bacardi',\n",
       " 'paul martins american grill',\n",
       " 'ive got new songs if old songs f panic colin hay',\n",
       " '️ ️ ️ lake days best days zorbaz green lake',\n",
       " 'i think realize complete life rn slowthesloth spiritanimal zooworld',\n",
       " 'th birthday workout celebration greg wolf seriously love job ️hossfit',\n",
       " 'called girls amp let know move tonight blackout sponsored user',\n",
       " '️ this lady my favorite utah football mom she always hold',\n",
       " 'thanksgiving wonderful crew made even special ️ mckinney texas',\n",
       " 'that time piece inspired margaret atwood signed margaret atwood ️ thank you',\n",
       " 'yeah gon na battle trump plaza parking lot after user user user',\n",
       " 'new teacher love ️ a hope wish brownschool brown',\n",
       " 'central park north–110th street',\n",
       " 'months prep come fruition user if walking show swing see our',\n",
       " 'wcw beautiful ladies also big congratulations to',\n",
       " 'i lucky aunt kids ️ dexter missouri',\n",
       " 'ok kids on count three everybody say pop pop poops nephews nieces unclebrian',\n",
       " 'delphinium arrangement baby boybaby newborn flowers florist blue nyflorist',\n",
       " 'life good nclescape gulf mexico',\n",
       " 'd6 this time ill right centennial college',\n",
       " 'father john misty maybewinner outer sunset san francisco california',\n",
       " 'hawthorne california',\n",
       " 'i know got back providence rhode island',\n",
       " 'we weddings well southampton new york',\n",
       " 'trying soooooo mf hard right nowtheyjustdontknowthedangertherein ',\n",
       " 'carrying groceries refrigerator full body workout powerlifting jokes',\n",
       " 'the moment realize things right raising son magee womens',\n",
       " 'one week december user otisthedestroyer user',\n",
       " 'love see black love wedding2017 atlanta georgia',\n",
       " 'sweet like summer ️ nautical mile',\n",
       " 'i ️ peopleoldmantalking pluckers wing bar',\n",
       " 'i want drama touch hand i want love wantyourbadromance xcel energy',\n",
       " 'mark andrew jr sophia bobby ️ ️ ️ san marino california',\n",
       " 'new eyes blue eyes new coloured contacts love em photo instagay lgbtq gayguy gayselfie',\n",
       " 'times square olive garden times square new york city',\n",
       " 'i basically live heaven high point university',\n",
       " 'had come chk big bro last night ceviche shortyscafe always good see u my',\n",
       " 'berryhibiscusrefresher starbucks edina mn',\n",
       " 'first thing whispers morning quietly mom whats favorite material ',\n",
       " 'piper enjoying ️ tuxedocat florida',\n",
       " 'classic preppy tonight blog what i say i love pink pearls ootd',\n",
       " 'just sayin lonestarsigns lonestararmy lonestar signcompany',\n",
       " 'i  m ready northeast washington washington district of',\n",
       " 'i got wild one hands mnwild xcel energy center',\n",
       " 'breakfast ️ at user new york ny',\n",
       " 'so excited heading napa right christmas dm photography collaborations i',\n",
       " 'proud share stage beautiful cast repost',\n",
       " 'great chevy truck i always saw cruise nightthis one first pictures chevy',\n",
       " ' old towncanon blancoynegro stadhuis alexandria alexandria city hall',\n",
       " 'yo way early cc user yakman302 fxm',\n",
       " 'shot user maryland',\n",
       " 'astoria sports complex astoria ny',\n",
       " 'today beautiful ️ babypantsmiles babypantsnoah nicetossdad user',\n",
       " 'empire state building top rock nyc empirestatebuilding topoftherock view',\n",
       " 'missing carefree days bff ️ merritt clubs white marsh',\n",
       " 'laurenmarxart rolling amazing sneak peeks new series created us',\n",
       " 'repostamp tag strathroy ontario',\n",
       " 'be ready show boyle county high school',\n",
       " 'no bad days ️ beaver lake nebraska',\n",
       " 'like i always say casual liquorifit herocarry casual toughmudder stayfit my app',\n",
       " 'this past weekend i honor witnessing two amazing souls hold benefit concert my',\n",
       " 'if firstlooklocationgoals thing definitely loved shooting beautiful',\n",
       " 'tyler farr redneck crazy ️ user tylerfarr brantleygilbert pennsylvania august',\n",
       " 'charcuterie board ️urbaneats foodporn weekend friyay user',\n",
       " 'hang loose roll ️ redheadsaremutants stitch typhoonlagoon disneyworld',\n",
       " 'think shoes fab honestly ever talk nicole xo user',\n",
       " 'opposites attract i guess patriots gopats bills mafia new era field',\n",
       " 'yummy butterbeer beer hogwarts harrypotter gryffindor californialove california',\n",
       " 'all i need life sin city best friend the beacon theatre',\n",
       " 'cats that  s bird watch together stay together ️ catsofinstagram north charleston south',\n",
       " 'baseballmom proudmama sammyonthemound myboy ️ garner baseball inc',\n",
       " 'christianbattung nollie bigspin back lip knobbed gold rail washingtondc ',\n",
       " 'tag someone wan na kiss new york new york',\n",
       " 'disney pt bae ️ at user anaheim ca',\n",
       " 'the little ten wisconsin',\n",
       " 'parades county fairs old navy tshirts usa usa usa oakwood illinois',\n",
       " 'arepas en beans beans cafe',\n",
       " 'sebastien izambard repost myildivoso magical amp beautiful moment amazing',\n",
       " 'happy th atxrealestate jpar nowhiring wearehiring austinrealestate percentcommission',\n",
       " 'those good genes north carolina',\n",
       " 'mta nd sttimes square subway station',\n",
       " 'happy4thofjuly lubbock texas',\n",
       " 'meet finley newest member barrecoast family goldendoodle barrecoast',\n",
       " 'i blessed supportive loving friends family ️ lynn grove kentucky',\n",
       " 'i love charleston sc rainbowrow charlestonsc rainbow row',\n",
       " 'from coffee series blog link bio ️ ventura california',\n",
       " 'favorite person ️ helton creek falls',\n",
       " 'girls wan na blonde adding dimension color shade user strong',\n",
       " 'first trip states silvia downtown seattle',\n",
       " 'good morning friends ️ happy thanksgiving the weather absolutely beautiful today i',\n",
       " 'sunday morning oklahoma waiting year see sunrise ️ summer2017',\n",
       " 'missing sc ️ surfside beach south carolina',\n",
       " 'big l ve congrats california girl user reaching k spotify streams on',\n",
       " 'and ladies goodnight universe lovenotes kingsandqueens respect oldschool kind',\n",
       " 'the start new things awagamifactory enkaustikos encausticastle pbsartistopenstudio',\n",
       " 'the wsucougarsoccer fire gocougs cougar soccer wsu wsu lower soccer field',\n",
       " 'the view san francisco san francisco california',\n",
       " 'some hocus pocus level here ransburg scout reservation',\n",
       " 'what cute couple mua soyumuatoronto natekimphotography filmphotography high park',\n",
       " 'happy th july eve lakewylie relaxing lakegirl lake wylie',\n",
       " 'goodbye springfield onto next journey love ️',\n",
       " 'photopadstory celebration kinds photopadforbusiness mytribe ️ birthday friendship',\n",
       " 'this puppy that tail those squeaks paigeaday minpinup homesweethome fort greene brooklyn',\n",
       " 'dropping some new music on my soundcloud later stay tuned moneyoverpopularity linkinbio',\n",
       " 'good bye fl great til next time jensen beach florida',\n",
       " 'this place at user costa mesa ca',\n",
       " 'my mom said this is going to be me tomorrow new york new york',\n",
       " 'ashkhens harvest pomegranate organic goodeats burbank california',\n",
       " 'it may taken hours site back running and promised post about',\n",
       " 'the fool tarot teasermore come our take fool let us proceed carefree into',\n",
       " 'basics beautiful personal service ️nantucket lingerieboutique ladybirdlingerie',\n",
       " 'fun day shopping natick massachusetts',\n",
       " 'when best friend ain  t shit center city',\n",
       " 'user user dedication6 east flatbush brooklyn',\n",
       " 'best girls ️friendsthatarefamily millers ale house',\n",
       " 'hand packed meatballs drenched homemade meat sauce topped mozzarella cheese popnsonslv',\n",
       " 'houston houston texas',\n",
       " 'checked estancialajolla every corner picture perfect last also it  s',\n",
       " 'my christmas gift spirit animal rd time this',\n",
       " 'last class en pointe user newton kansas',\n",
       " 'last night was lit shoutout user user user lovely',\n",
       " 'acting like tourist port authority newyork mykid',\n",
       " 'tore del puerto canyon fz09 mt09 fullthrottletherapy diablo grande california',\n",
       " 'enjoying nice bonfire home weekend fort wayne indiana',\n",
       " 'repost user like you  ve never perform like you  ve never lost',\n",
       " 'once year let step across hall hang cool kids room homefront',\n",
       " 'footlocker',\n",
       " 'grandeur flaminglips show revention music center',\n",
       " 'for last week lift big bench strong make peace pain thank god for',\n",
       " 'how feel post vogue femme class fierce voguefemme dogpatchdance dogpatch dance',\n",
       " 'the goat nuff said cafe expresso',\n",
       " 'tassels hair tassels clutch fall love the diane collection',\n",
       " 'thank everyone reached featured girls room jc were happy learn',\n",
       " 'omg throwback pittsburg texas',\n",
       " 'missing sweet smiley girl little extra today ️ lifeofjoy gettingtoobigtoofast user',\n",
       " 'back in my corner ️ ️ ️ stitching bitching makingmagic nyc home costumeland new',\n",
       " 'ford camaro huh i didn  t know ford made camaro tag friend knows nothing about',\n",
       " 'bridal hair makeup chrissy woods user getting married know someone is',\n",
       " 'posting cheesy disney tourist pic i  m already missing magic minnieears',\n",
       " 'i my way nashville he really sucked one he ryanksteele ',\n",
       " 'heres cable complex targets glamour muscles medium heavy weight challenge',\n",
       " 'successful first formal calls lots smiles show it ',\n",
       " 'something old something new something famu bragg memorial',\n",
       " 'bare vibes tapfordetails new york new york',\n",
       " 'margomensch marissapatynski user i blessed you kgsdancefamily',\n",
       " 'the student become teacher tyler taking lessons supreme perfection studios',\n",
       " 'when want sharkyou need right bait arthurmurraydancestudio ballroomdance',\n",
       " 'nyc ️ ️ ️ new york new york',\n",
       " '️ ️ fernandina beach florida',\n",
       " 'its monday dont forget awesome jednorthwomen jednorth fitchick',\n",
       " 'saw captivating views alcatraz island',\n",
       " 'ummm resolutions west hollywood california',\n",
       " 'minutes pure joy the new album user letloverule yourewelcome user',\n",
       " 'an incredible day boston number ones much much much love user lachyg user',\n",
       " 'afternoon stroll columbus circle always daydreaming nyc',\n",
       " 'textures amp prints black halo designstudio ⠀⠀⠀⠀⠀⠀bts behindthescenes',\n",
       " 'yikes where  s ️ user times square new york city',\n",
       " 'amber leigh song todays day singersongwriter confident confidence iamwhoiam',\n",
       " 'formal fun w ️ the erickson alumni center wvu',\n",
       " 'monday late post ty brother lol redhorse galpincarshow galpin premier',\n",
       " 'heading day sabotencon2017 jessicaanncosplay conlife comiccon cosplay',\n",
       " 'me drummer user user cute ️ ️ ️kansascity cityoftheweak',\n",
       " 'no idea people work always flippin us off user showin us some',\n",
       " 'shiny vegaas baby vegas lights bw lasvegas paris parisvegas lasvegasstrip nevada',\n",
       " 'having fun friends great saturday far cool shoutout smile usa team',\n",
       " 'stop djlizclark vistavegas alto bar am inside user',\n",
       " 'only hollywood hollywood',\n",
       " 'perfect example us best friends womb royal oak michigan',\n",
       " 'is thiswhat heaven is user user user wreckedfood',\n",
       " 'monday nostalgia ️hbd samaeywear user time precious commodity have',\n",
       " 'no matter i feeling joccy nows doors open daddy ️ ️babymodelsearch',\n",
       " 'me amp user killed show ny w user and way artists click',\n",
       " 'spinning like girl brand new dress big wide city user',\n",
       " 'gogreek whyalphachihpu axosummer17 litb north myrtle beach',\n",
       " 'pantorabride thedalailana reception wedding dress fittings ️ ️ ️weddingdress',\n",
       " 'doin  workoh and queen i send warmest regards men  s room royalflush inked',\n",
       " 'thanks nashville time sleeps user the woods fontanel',\n",
       " 'wcw my beautiful girls erin elizabeth amp dory rose loveyoumore user',\n",
       " 'i another year older wiser amp grateful the pool after dark harrahs resort',\n",
       " 'back gen korean bbq carrollton tx',\n",
       " 'the perfect place spend postbeach afternoon hours open osg a',\n",
       " 'another beauty ️onlocationmakeup indulgencebeautybar makeupbydeirdrepquinn lovewhatido',\n",
       " 'i definitely needed ️onewithnature castle rock trail',\n",
       " 'hi mom user user ultimate cheer lubbock',\n",
       " 'game day baby user flyeaglesfly toddlerbabywearing bwihr soulslings',\n",
       " 'me hanging outer bankshttpstcoopnqaksb50 rptsjoy beardsman beards beard',\n",
       " 'drewcanadatattoo amillion tattoo',\n",
       " 'oh wow jones',\n",
       " 'we mini dsm reunion hoco amp heart full ️ central',\n",
       " 'rockin  around christmas tree falls park sioux falls',\n",
       " 'tomorrow ️ seeyouthere repost user additional parking in addition to',\n",
       " 'dampg sneakers newarrival available ordernow en new york new york',\n",
       " 'what i say im cool phoenix arizona usa phoenicians th avenuedunlap station',\n",
       " 'diy christmas tree divas manecouture mane couture',\n",
       " 'dopeprospective preciate super cool bts post it  s crazy many iconic brands are',\n",
       " 'had fun day zoo yesterday thanks joining us ypindolia the toronto zoo',\n",
       " 'the mimo nina  s holidaytrip2017 tampa premium outlets',\n",
       " 'add touch vintage th july look missclaudias shoplocal shoplocalnola',\n",
       " 'watch sunset feed heart user capecod chatham massachusetts yr',\n",
       " 'umgb squad awny universal music group',\n",
       " 'amp museum artphotography national portrait gallery smithsonian institution',\n",
       " 'we love susan bmtdoesitbest keepkickingass yesterdays saloon',\n",
       " 'caught driving gun hill puertorico gun hill road',\n",
       " 'my city mycity losangeles california downtownla discoverla capturingperspective',\n",
       " 'user calls ones left botoxed pumpkins for asking suede',\n",
       " 'nature pretty neat walls ariananelson maquoketa',\n",
       " 'home little bit got shoot user little rock arkansas',\n",
       " 'came nyc celebrate birthday let adventure begin ️worldindetails times square',\n",
       " 'to put together shoot takes villageso brought tribal village so proud of',\n",
       " 'looking dinosaurs animalkingdom disneyland hey orlando florida crewlife',\n",
       " 'mae wanted yall know sam fam well and',\n",
       " 'nowplaying memphis bleek i get high rollin i95 classic classicrap',\n",
       " 'loves ️ ️ ️ west riverfront park',\n",
       " 'going list great daytona beach eats backyard boys',\n",
       " 'my beautiful nieces family love ️ mays landing new jersey',\n",
       " 'i shoot fast user hungry chefstalk chefslife user instafood',\n",
       " 'gemgardenoriginal tourmaline diamond concoction customjewelry fav garden of',\n",
       " '️ philadelpha international airport phl',\n",
       " 'well aren  t fun ️ user weddingphotography instalike',\n",
       " 'daddysgirl truelove westside houston texas',\n",
       " 'and oscar goes to user planet earth',\n",
       " 'this weather perfect blueeyes urbandecay youwilldobetterintoledo longhairdontcare',\n",
       " 'ill tell u woman luvs most man slap also stroke user user',\n",
       " ' injustice anywhere threat justice everywhere  mlk another reason ️ alma',\n",
       " 'woodlawn baltimore county maryland',\n",
       " 'don  t mix music mix drinks djs in the drink',\n",
       " 'come get laced latres were lace latreslingerie designerlingerie lace',\n",
       " 'sophia wasn  t teamgehrke peter piper pizza',\n",
       " 'wedding time northfork farm',\n",
       " 'limejalapeñolobster were corner commercial pearl the',\n",
       " 'new jewels coming soon magnolia bridal',\n",
       " '️ santa monica state beach',\n",
       " 'these two melt heart ️ kent ohio',\n",
       " 'im crying im sorry lmaooooo sipthenectar therevenant narcotechs bethechange ayak',\n",
       " 'apparently miniature walrus puppies thing so cute squishy folds i drew',\n",
       " 'andrew  s plate looks amazing el dorado mexican restaurant',\n",
       " 'shopping time sanfrancisco louisvuitton vacation traveling',\n",
       " 'day user day projectwe it while i day i still feel',\n",
       " 'back reclaim mayoral throne bánh town seattle wa',\n",
       " 'let us never forget jfkjr thankful colorado',\n",
       " 'flashbackfriday shooting nikonrob81 earlier summercant wait get all',\n",
       " 'pure love tostilocos somewhere under sincity skyline',\n",
       " 'show luv downtown la',\n",
       " 'celebrating favorite annie  s wedding day favorite annie dancingtodoherty',\n",
       " 'detour user ️ ️ house blues anaheim',\n",
       " 'off motherland spiders lizards bugs oh my jfk john f kennedy',\n",
       " 'goofball brothers always make faces good pictures you',\n",
       " 'grateful another thanksgiving pop thanksgiving grateful family pop',\n",
       " 'happy birthday ️ gloriacvergara doñaberraca aventura florida',\n",
       " 'user tha kyd alwaysneverhometour the catalyst club',\n",
       " 'happy fourth july everyone thank solider freedom celebrating today ',\n",
       " 'the lady behind us really happy picture globe life park arlington',\n",
       " 'my view rest afternoon john deere classic',\n",
       " 'cotton candy princess loved creating look friend moving new state alternating',\n",
       " 'mckee enjoying evening sun irishsetter lovebug columbia ',\n",
       " 'saturdays pool parties ️ coral gables florida',\n",
       " 'savage concert call fredrick douglass night university of memphis',\n",
       " 'yea this wasn  t one of my finest moments digestive disease',\n",
       " 'daydreaming scenic park seattle discovery park',\n",
       " 'one two three blush your favorite skingym nowopen user we  re excited',\n",
       " 'camo lol jenkinsons boardwalk',\n",
       " 'safe kansas',\n",
       " 'fresh coat paint blowout cuz i get go see friend lolhouse',\n",
       " 'out on every platform monday itunes pandora googleplay spotify amp many more streaming',\n",
       " 'factsfacts facts factssfactsssfacts truthtruthswordswordswagwordpornwordsfo',\n",
       " 'fridays paisley we met grandmother lunch today pappadeaux seafood kitchen',\n",
       " 'my life needed little fun thanks help user mega hair elite',\n",
       " 'i set bar you it  s take knightsbridgewinery',\n",
       " 'birthday dinner hot momma rayburn country resort',\n",
       " 'an experience i cherish forever ️ neverforget ',\n",
       " 'dont let anyone ever dull sparkle cherokee county georgia',\n",
       " 'favorite person canyon lake california',\n",
       " 'and since i made herei make anywhere char lamig sa centro eh ny bigapple user',\n",
       " 'east mlk austin texas',\n",
       " 'laure de la cruz foundation alex israel untitled flats artbasel lhd de la',\n",
       " 'the fireworks magic kingdom last night magical magickingdom waltdisneyworld magic',\n",
       " 'my family super get it ripleysodditorium providing us lots fun today a few',\n",
       " 'joe roff setting room fire tim horan nick farjones dr brendan nasser nick',\n",
       " 'chillin  sampg christmas crew shepherd grey daycare guesthouse',\n",
       " 'love besties ️ ️ ️ user sarahemiddleton candking08 user',\n",
       " 'nothing like stretching triple runs th if little league get opposing coach yelling real classy coach',\n",
       " 'last day save guys i know it  s rd pick up',\n",
       " 'girl squaaaaaaaad rtx',\n",
       " 'we found place orlando florida',\n",
       " 'i really want give special shout lesbianhappyhourdallas coming music',\n",
       " 'how shoes feel run them surprised fatladattheback george ranch high',\n",
       " 'drinking hessian in paradise user user  photo',\n",
       " 'reginaspector summerstagenyc ️ summerstage nyc',\n",
       " 'qbconnect convention sick i love indoor park im geeking out ️ lelalelolife',\n",
       " 'julia got little lost made home phi mu ecu',\n",
       " 'my beautiful coworkers merry christmas ross dress less',\n",
       " 'coming home best ️ town parker colorado',\n",
       " 'i sunday  s it  s perfect day wrap weekend todo  s get light workout in',\n",
       " 'when old life new life intersect public espresso coffee',\n",
       " 'good vibes good friends great views chicago illinois lake michigan',\n",
       " 'disconnect ur phone amp pick cupcake instead cupcakes cupcakes sweets',\n",
       " ...]"
      ]
     },
     "execution_count": 236,
     "metadata": {},
     "output_type": "execute_result"
    }
   ],
   "source": [
    "es_text_clear"
   ]
  },
  {
   "cell_type": "markdown",
   "metadata": {},
   "source": [
    "### Vocabulary Creation"
   ]
  },
  {
   "cell_type": "code",
   "execution_count": 207,
   "metadata": {
    "ExecuteTime": {
     "end_time": "2019-04-28T21:57:08.752478Z",
     "start_time": "2019-04-28T21:57:08.411960Z"
    }
   },
   "outputs": [],
   "source": [
    "vocab = set()\n",
    "total_vocab = texts_clear + trial_clear\n",
    "for line in total_vocab:\n",
    "    for word in line.split():\n",
    "        vocab.add(word)"
   ]
  },
  {
   "cell_type": "code",
   "execution_count": 291,
   "metadata": {
    "ExecuteTime": {
     "end_time": "2019-04-29T22:05:49.435058Z",
     "start_time": "2019-04-29T22:05:49.329874Z"
    }
   },
   "outputs": [],
   "source": [
    "es_vocab = set()\n",
    "total_es = es_text_clear + es_trial_clear\n",
    "for line in total_es:\n",
    "    for word in line.split():\n",
    "        es_vocab.add(word)"
   ]
  },
  {
   "cell_type": "code",
   "execution_count": 209,
   "metadata": {
    "ExecuteTime": {
     "end_time": "2019-04-28T21:57:24.898993Z",
     "start_time": "2019-04-28T21:57:24.887441Z"
    }
   },
   "outputs": [
    {
     "data": {
      "text/plain": [
       "103027"
      ]
     },
     "execution_count": 209,
     "metadata": {},
     "output_type": "execute_result"
    }
   ],
   "source": [
    "len(vocab)"
   ]
  },
  {
   "cell_type": "code",
   "execution_count": 292,
   "metadata": {
    "ExecuteTime": {
     "end_time": "2019-04-29T22:06:00.945591Z",
     "start_time": "2019-04-29T22:06:00.938668Z"
    }
   },
   "outputs": [
    {
     "data": {
      "text/plain": [
       "38603"
      ]
     },
     "execution_count": 292,
     "metadata": {},
     "output_type": "execute_result"
    }
   ],
   "source": [
    "len(es_vocab)"
   ]
  },
  {
   "cell_type": "code",
   "execution_count": 237,
   "metadata": {
    "ExecuteTime": {
     "end_time": "2019-04-29T12:23:03.042330Z",
     "start_time": "2019-04-29T12:23:02.862845Z"
    }
   },
   "outputs": [],
   "source": [
    "with codecs.open(\"en_tokenized/clear_Eng_train.txt\",'w',\"utf-8\") as out_fs:\n",
    "    for each in texts_clear:\n",
    "        out_fs.write(each + \"\\n\")"
   ]
  },
  {
   "cell_type": "code",
   "execution_count": 238,
   "metadata": {
    "ExecuteTime": {
     "end_time": "2019-04-29T12:23:04.099459Z",
     "start_time": "2019-04-29T12:23:04.063793Z"
    }
   },
   "outputs": [],
   "source": [
    "with codecs.open(\"es_tokenized/clear_Es_train.txt\",'w',\"utf-8\") as out_fs:\n",
    "    for each in es_text_clear:\n",
    "        out_fs.write(each + \"\\n\")"
   ]
  },
  {
   "cell_type": "code",
   "execution_count": 242,
   "metadata": {
    "ExecuteTime": {
     "end_time": "2019-04-29T12:23:35.946712Z",
     "start_time": "2019-04-29T12:23:35.939549Z"
    }
   },
   "outputs": [],
   "source": [
    "with codecs.open(\"es_tokenized/clear_Es_test.txt\",'w',\"utf-8\") as out_fs:\n",
    "    for each in es_trial_clear:\n",
    "        out_fs.write(each + \"\\n\")"
   ]
  },
  {
   "cell_type": "code",
   "execution_count": 240,
   "metadata": {
    "ExecuteTime": {
     "end_time": "2019-04-29T12:23:06.138131Z",
     "start_time": "2019-04-29T12:23:06.111512Z"
    }
   },
   "outputs": [],
   "source": [
    "with codecs.open(\"en_tokenized/clear_Eng_test.txt\",'w',\"utf-8\") as out_fs:\n",
    "    for each in trial_clear:\n",
    "        out_fs.write(each + \"\\n\")"
   ]
  },
  {
   "cell_type": "markdown",
   "metadata": {},
   "source": [
    "## Sentence Vectorization"
   ]
  },
  {
   "cell_type": "code",
   "execution_count": 60,
   "metadata": {
    "ExecuteTime": {
     "end_time": "2019-04-27T14:25:06.079194Z",
     "start_time": "2019-04-27T14:25:06.072358Z"
    }
   },
   "outputs": [],
   "source": [
    "from sklearn.feature_extraction.text import TfidfVectorizer\n",
    "from sklearn.linear_model import LogisticRegression\n",
    "from sklearn.feature_extraction.text import CountVectorizer\n",
    "from sklearn.model_selection import train_test_split"
   ]
  },
  {
   "cell_type": "markdown",
   "metadata": {},
   "source": [
    "My baseline here is BagOfWords model and Tf-idf model."
   ]
  },
  {
   "cell_type": "markdown",
   "metadata": {},
   "source": [
    "### BagOfWords"
   ]
  },
  {
   "cell_type": "markdown",
   "metadata": {},
   "source": [
    "#### English"
   ]
  },
  {
   "cell_type": "code",
   "execution_count": 228,
   "metadata": {
    "ExecuteTime": {
     "end_time": "2019-04-29T03:39:13.799068Z",
     "start_time": "2019-04-29T03:39:13.753745Z"
    }
   },
   "outputs": [],
   "source": [
    "cv_ = CountVectorizer(ngram_range=(-2,2), vocabulary=vocab_lst, min_df= 5)"
   ]
  },
  {
   "cell_type": "markdown",
   "metadata": {},
   "source": [
    "Split train and dev dataset"
   ]
  },
  {
   "cell_type": "code",
   "execution_count": 229,
   "metadata": {
    "ExecuteTime": {
     "end_time": "2019-04-29T03:39:17.510343Z",
     "start_time": "2019-04-29T03:39:17.438080Z"
    }
   },
   "outputs": [],
   "source": [
    "en_train, en_dev = train_test_split(texts_clear, test_size = 0.2, shuffle=False)\n",
    "en_y, en_dev_y = train_test_split(en_labels, test_size = 0.2, shuffle=False)"
   ]
  },
  {
   "cell_type": "code",
   "execution_count": 230,
   "metadata": {
    "ExecuteTime": {
     "end_time": "2019-04-29T03:39:18.517129Z",
     "start_time": "2019-04-29T03:39:18.508485Z"
    }
   },
   "outputs": [],
   "source": [
    "vocab_lst = list(vocab)"
   ]
  },
  {
   "cell_type": "code",
   "execution_count": 225,
   "metadata": {
    "ExecuteTime": {
     "end_time": "2019-04-28T23:51:54.003202Z",
     "start_time": "2019-04-28T23:51:53.213109Z"
    }
   },
   "outputs": [
    {
     "data": {
      "text/plain": [
       "CountVectorizer(analyzer='word', binary=False, decode_error='strict',\n",
       "        dtype=<class 'numpy.int64'>, encoding='utf-8', input='content',\n",
       "        lowercase=True, max_df=1.0, max_features=None, min_df=1,\n",
       "        ngram_range=(1, 1), preprocessor=None, stop_words=None,\n",
       "        strip_accents=None, token_pattern='(?u)\\\\b\\\\w\\\\w+\\\\b',\n",
       "        tokenizer=None, vocabulary=None)"
      ]
     },
     "execution_count": 225,
     "metadata": {},
     "output_type": "execute_result"
    }
   ],
   "source": [
    "cv_.fit(raw_documents=vocab_lst)"
   ]
  },
  {
   "cell_type": "code",
   "execution_count": 231,
   "metadata": {
    "ExecuteTime": {
     "end_time": "2019-04-29T03:39:43.548281Z",
     "start_time": "2019-04-29T03:39:39.129729Z"
    }
   },
   "outputs": [],
   "source": [
    "en_train_cv = cv_.fit_transform(en_train)\n",
    "en_dev_cv = cv_.transform(en_dev)"
   ]
  },
  {
   "cell_type": "code",
   "execution_count": 232,
   "metadata": {
    "ExecuteTime": {
     "end_time": "2019-04-29T03:39:44.632079Z",
     "start_time": "2019-04-29T03:39:44.620935Z"
    }
   },
   "outputs": [
    {
     "data": {
      "text/plain": [
       "<72000x103027 sparse matrix of type '<class 'numpy.int64'>'\n",
       "\twith 546600 stored elements in Compressed Sparse Row format>"
      ]
     },
     "execution_count": 232,
     "metadata": {},
     "output_type": "execute_result"
    }
   ],
   "source": [
    "en_train_cv"
   ]
  },
  {
   "cell_type": "code",
   "execution_count": 277,
   "metadata": {
    "ExecuteTime": {
     "end_time": "2019-04-29T18:15:02.392850Z",
     "start_time": "2019-04-29T18:15:02.389358Z"
    }
   },
   "outputs": [],
   "source": [
    "lr = LogisticRegression(random_state=14, dual = True)"
   ]
  },
  {
   "cell_type": "code",
   "execution_count": 278,
   "metadata": {
    "ExecuteTime": {
     "end_time": "2019-04-29T18:15:46.879046Z",
     "start_time": "2019-04-29T18:15:03.554620Z"
    }
   },
   "outputs": [
    {
     "name": "stderr",
     "output_type": "stream",
     "text": [
      "/Users/weihaoran/env/lib/python3.6/site-packages/sklearn/linear_model/logistic.py:433: FutureWarning: Default solver will be changed to 'lbfgs' in 0.22. Specify a solver to silence this warning.\n",
      "  FutureWarning)\n",
      "/Users/weihaoran/env/lib/python3.6/site-packages/sklearn/linear_model/logistic.py:460: FutureWarning: Default multi_class will be changed to 'auto' in 0.22. Specify the multi_class option to silence this warning.\n",
      "  \"this warning.\", FutureWarning)\n",
      "/Users/weihaoran/env/lib/python3.6/site-packages/sklearn/svm/base.py:922: ConvergenceWarning: Liblinear failed to converge, increase the number of iterations.\n",
      "  \"the number of iterations.\", ConvergenceWarning)\n"
     ]
    },
    {
     "data": {
      "text/plain": [
       "LogisticRegression(C=1.0, class_weight=None, dual=True, fit_intercept=True,\n",
       "          intercept_scaling=1, max_iter=100, multi_class='warn',\n",
       "          n_jobs=None, penalty='l2', random_state=14, solver='warn',\n",
       "          tol=0.0001, verbose=0, warm_start=False)"
      ]
     },
     "execution_count": 278,
     "metadata": {},
     "output_type": "execute_result"
    }
   ],
   "source": [
    "lr.fit(en_train_cv, en_y)"
   ]
  },
  {
   "cell_type": "code",
   "execution_count": 279,
   "metadata": {
    "ExecuteTime": {
     "end_time": "2019-04-29T18:15:47.772759Z",
     "start_time": "2019-04-29T18:15:47.755771Z"
    }
   },
   "outputs": [],
   "source": [
    "en_pred_dev = lr.predict(en_dev_cv)"
   ]
  },
  {
   "cell_type": "code",
   "execution_count": 280,
   "metadata": {
    "ExecuteTime": {
     "end_time": "2019-04-29T18:15:48.705659Z",
     "start_time": "2019-04-29T18:15:48.701011Z"
    }
   },
   "outputs": [],
   "source": [
    "en_pred_dev.dtype = np.int"
   ]
  },
  {
   "cell_type": "code",
   "execution_count": 281,
   "metadata": {
    "ExecuteTime": {
     "end_time": "2019-04-29T18:15:49.701333Z",
     "start_time": "2019-04-29T18:15:49.613572Z"
    }
   },
   "outputs": [],
   "source": [
    "np.savetxt('res_cv.txt', en_pred_dev, fmt='%d')\n",
    "np.savetxt('goldres_cv.txt', np.array(en_dev_y), fmt='%d')"
   ]
  },
  {
   "cell_type": "code",
   "execution_count": 282,
   "metadata": {
    "ExecuteTime": {
     "end_time": "2019-04-29T18:15:50.690164Z",
     "start_time": "2019-04-29T18:15:50.652963Z"
    }
   },
   "outputs": [
    {
     "name": "stdout",
     "output_type": "stream",
     "text": [
      "Macro F-Score (official): 21.256\n",
      "-----\n",
      "Micro F-Score: 31.222\n",
      "Precision: 31.222\n",
      "Recall: 31.222\n"
     ]
    }
   ],
   "source": [
    "%run scorer_semeval18.py goldres_cv.txt res_cv.txt"
   ]
  },
  {
   "cell_type": "markdown",
   "metadata": {},
   "source": [
    "#### Spanish"
   ]
  },
  {
   "cell_type": "code",
   "execution_count": 295,
   "metadata": {
    "ExecuteTime": {
     "end_time": "2019-04-29T23:37:12.180243Z",
     "start_time": "2019-04-29T23:37:12.172267Z"
    }
   },
   "outputs": [],
   "source": [
    "cv_es = CountVectorizer(ngram_range=(-2,2), vocabulary=es_vocab)"
   ]
  },
  {
   "cell_type": "code",
   "execution_count": 296,
   "metadata": {
    "ExecuteTime": {
     "end_time": "2019-04-29T23:37:13.495060Z",
     "start_time": "2019-04-29T23:37:13.480846Z"
    }
   },
   "outputs": [],
   "source": [
    "es_train, es_dev = train_test_split(es_text_clear, test_size = 0.2, shuffle=False)\n",
    "es_y, es_dev_y = train_test_split(es_labels, test_size = 0.2, shuffle=False)"
   ]
  },
  {
   "cell_type": "code",
   "execution_count": 297,
   "metadata": {
    "ExecuteTime": {
     "end_time": "2019-04-29T23:37:15.411767Z",
     "start_time": "2019-04-29T23:37:14.537037Z"
    }
   },
   "outputs": [],
   "source": [
    "es_train_cv = cv_es.fit_transform(es_train)\n",
    "es_dev_cv = cv_es.transform(es_dev)"
   ]
  },
  {
   "cell_type": "code",
   "execution_count": 310,
   "metadata": {
    "ExecuteTime": {
     "end_time": "2019-04-29T23:45:08.624330Z",
     "start_time": "2019-04-29T23:45:08.612463Z"
    }
   },
   "outputs": [],
   "source": [
    "Cs = np.linspace(1,100,11)"
   ]
  },
  {
   "cell_type": "code",
   "execution_count": 311,
   "metadata": {
    "ExecuteTime": {
     "end_time": "2019-04-29T23:46:41.499516Z",
     "start_time": "2019-04-29T23:45:55.680074Z"
    }
   },
   "outputs": [
    {
     "name": "stdout",
     "output_type": "stream",
     "text": [
      "C:  1.0\n"
     ]
    },
    {
     "name": "stderr",
     "output_type": "stream",
     "text": [
      "/Users/weihaoran/env/lib/python3.6/site-packages/sklearn/linear_model/logistic.py:433: FutureWarning: Default solver will be changed to 'lbfgs' in 0.22. Specify a solver to silence this warning.\n",
      "  FutureWarning)\n",
      "/Users/weihaoran/env/lib/python3.6/site-packages/sklearn/utils/validation.py:761: DataConversionWarning: A column-vector y was passed when a 1d array was expected. Please change the shape of y to (n_samples, ), for example using ravel().\n",
      "  y = column_or_1d(y, warn=True)\n",
      "/Users/weihaoran/env/lib/python3.6/site-packages/sklearn/linear_model/logistic.py:460: FutureWarning: Default multi_class will be changed to 'auto' in 0.22. Specify the multi_class option to silence this warning.\n",
      "  \"this warning.\", FutureWarning)\n"
     ]
    },
    {
     "name": "stdout",
     "output_type": "stream",
     "text": [
      "Macro F-Score (official): 7.665\n",
      "-----\n",
      "Micro F-Score: 28.237\n",
      "Precision: 28.237\n",
      "Recall: 28.237\n",
      "\n",
      "C:  10.9\n",
      "Macro F-Score (official): 10.62\n",
      "-----\n",
      "Micro F-Score: 24.211\n",
      "Precision: 24.211\n",
      "Recall: 24.211\n",
      "\n",
      "C:  20.8\n"
     ]
    },
    {
     "name": "stderr",
     "output_type": "stream",
     "text": [
      "/Users/weihaoran/env/lib/python3.6/site-packages/sklearn/svm/base.py:922: ConvergenceWarning: Liblinear failed to converge, increase the number of iterations.\n",
      "  \"the number of iterations.\", ConvergenceWarning)\n"
     ]
    },
    {
     "name": "stdout",
     "output_type": "stream",
     "text": [
      "Macro F-Score (official): 10.824\n",
      "-----\n",
      "Micro F-Score: 23.368\n",
      "Precision: 23.368\n",
      "Recall: 23.368\n",
      "\n",
      "C:  30.700000000000003\n",
      "Macro F-Score (official): 10.853\n",
      "-----\n",
      "Micro F-Score: 23.026\n",
      "Precision: 23.026\n",
      "Recall: 23.026\n",
      "\n",
      "C:  40.6\n",
      "Macro F-Score (official): 10.831\n",
      "-----\n",
      "Micro F-Score: 22.526\n",
      "Precision: 22.526\n",
      "Recall: 22.526\n",
      "\n",
      "C:  50.5\n",
      "Macro F-Score (official): 10.69\n",
      "-----\n",
      "Micro F-Score: 22.184\n",
      "Precision: 22.184\n",
      "Recall: 22.184\n",
      "\n",
      "C:  60.400000000000006\n",
      "Macro F-Score (official): 10.791\n",
      "-----\n",
      "Micro F-Score: 22.184\n",
      "Precision: 22.184\n",
      "Recall: 22.184\n",
      "\n",
      "C:  70.3\n",
      "Macro F-Score (official): 10.682\n",
      "-----\n",
      "Micro F-Score: 22.053\n",
      "Precision: 22.053\n",
      "Recall: 22.053\n",
      "\n",
      "C:  80.2\n",
      "Macro F-Score (official): 10.751\n",
      "-----\n",
      "Micro F-Score: 22.105\n",
      "Precision: 22.105\n",
      "Recall: 22.105\n",
      "\n",
      "C:  90.10000000000001\n",
      "Macro F-Score (official): 10.649\n",
      "-----\n",
      "Micro F-Score: 21.921\n",
      "Precision: 21.921\n",
      "Recall: 21.921\n",
      "\n",
      "C:  100.0\n",
      "Macro F-Score (official): 10.637\n",
      "-----\n",
      "Micro F-Score: 21.763\n",
      "Precision: 21.763\n",
      "Recall: 21.763\n",
      "\n"
     ]
    }
   ],
   "source": [
    "for C in Cs:\n",
    "    print(\"C: \" , C )\n",
    "    lr = LogisticRegression(C=C, dual= True, random_state=14)\n",
    "    lr.fit(es_train_tf, es_y)\n",
    "    es_pred_train = lr.predict(es_dev_tf)\n",
    "    es_pred_train.dtype = np.int\n",
    "    np.savetxt('res.txt', es_pred_train, fmt='%d')\n",
    "    np.savetxt('goldres.txt', np.array(es_dev_y), fmt='%d')\n",
    "    %run scorer_semeval18.py goldres.txt res.txt\n",
    "    print()"
   ]
  },
  {
   "cell_type": "code",
   "execution_count": 312,
   "metadata": {
    "ExecuteTime": {
     "end_time": "2019-04-29T23:47:04.910637Z",
     "start_time": "2019-04-29T23:47:04.906810Z"
    }
   },
   "outputs": [],
   "source": [
    "lr = LogisticRegression(C=20.0,random_state=14, dual = True)"
   ]
  },
  {
   "cell_type": "code",
   "execution_count": 313,
   "metadata": {
    "ExecuteTime": {
     "end_time": "2019-04-29T23:47:11.626782Z",
     "start_time": "2019-04-29T23:47:06.054898Z"
    }
   },
   "outputs": [
    {
     "name": "stderr",
     "output_type": "stream",
     "text": [
      "/Users/weihaoran/env/lib/python3.6/site-packages/sklearn/linear_model/logistic.py:433: FutureWarning: Default solver will be changed to 'lbfgs' in 0.22. Specify a solver to silence this warning.\n",
      "  FutureWarning)\n",
      "/Users/weihaoran/env/lib/python3.6/site-packages/sklearn/utils/validation.py:761: DataConversionWarning: A column-vector y was passed when a 1d array was expected. Please change the shape of y to (n_samples, ), for example using ravel().\n",
      "  y = column_or_1d(y, warn=True)\n",
      "/Users/weihaoran/env/lib/python3.6/site-packages/sklearn/linear_model/logistic.py:460: FutureWarning: Default multi_class will be changed to 'auto' in 0.22. Specify the multi_class option to silence this warning.\n",
      "  \"this warning.\", FutureWarning)\n",
      "/Users/weihaoran/env/lib/python3.6/site-packages/sklearn/svm/base.py:922: ConvergenceWarning: Liblinear failed to converge, increase the number of iterations.\n",
      "  \"the number of iterations.\", ConvergenceWarning)\n"
     ]
    },
    {
     "data": {
      "text/plain": [
       "LogisticRegression(C=20.0, class_weight=None, dual=True, fit_intercept=True,\n",
       "          intercept_scaling=1, max_iter=100, multi_class='warn',\n",
       "          n_jobs=None, penalty='l2', random_state=14, solver='warn',\n",
       "          tol=0.0001, verbose=0, warm_start=False)"
      ]
     },
     "execution_count": 313,
     "metadata": {},
     "output_type": "execute_result"
    }
   ],
   "source": [
    "lr.fit(es_train_cv, es_y)"
   ]
  },
  {
   "cell_type": "code",
   "execution_count": 314,
   "metadata": {
    "ExecuteTime": {
     "end_time": "2019-04-29T23:47:12.831370Z",
     "start_time": "2019-04-29T23:47:12.823197Z"
    }
   },
   "outputs": [],
   "source": [
    "es_pred_dev = lr.predict(es_dev_cv)"
   ]
  },
  {
   "cell_type": "code",
   "execution_count": 315,
   "metadata": {
    "ExecuteTime": {
     "end_time": "2019-04-29T23:47:14.110907Z",
     "start_time": "2019-04-29T23:47:14.107922Z"
    }
   },
   "outputs": [],
   "source": [
    "es_pred_dev.dtype = np.int"
   ]
  },
  {
   "cell_type": "code",
   "execution_count": 316,
   "metadata": {
    "ExecuteTime": {
     "end_time": "2019-04-29T23:47:15.128690Z",
     "start_time": "2019-04-29T23:47:15.078418Z"
    }
   },
   "outputs": [
    {
     "name": "stdout",
     "output_type": "stream",
     "text": [
      "Macro F-Score (official): 10.986\n",
      "-----\n",
      "Micro F-Score: 22.553\n",
      "Precision: 22.553\n",
      "Recall: 22.553\n"
     ]
    }
   ],
   "source": [
    "np.savetxt('res_cv_es.txt', es_pred_dev, fmt='%d')\n",
    "np.savetxt('goldres_cv.txt', np.array(es_dev_y), fmt='%d')\n",
    "%run scorer_semeval18.py goldres_cv.txt res_cv_es.txt"
   ]
  },
  {
   "cell_type": "code",
   "execution_count": 317,
   "metadata": {
    "ExecuteTime": {
     "end_time": "2019-04-29T23:47:32.478865Z",
     "start_time": "2019-04-29T23:47:31.539258Z"
    }
   },
   "outputs": [],
   "source": [
    "es_texts_cv = cv_es.fit_transform(es_text_clear)\n",
    "es_test_cv = cv_es.transform(es_trial_clear)"
   ]
  },
  {
   "cell_type": "code",
   "execution_count": 318,
   "metadata": {
    "ExecuteTime": {
     "end_time": "2019-04-29T23:47:33.529207Z",
     "start_time": "2019-04-29T23:47:33.525199Z"
    }
   },
   "outputs": [],
   "source": [
    "lr = LogisticRegression(C=20.0,random_state=14, dual = True)"
   ]
  },
  {
   "cell_type": "code",
   "execution_count": 319,
   "metadata": {
    "ExecuteTime": {
     "end_time": "2019-04-29T23:47:42.251333Z",
     "start_time": "2019-04-29T23:47:34.600142Z"
    }
   },
   "outputs": [
    {
     "name": "stderr",
     "output_type": "stream",
     "text": [
      "/Users/weihaoran/env/lib/python3.6/site-packages/sklearn/linear_model/logistic.py:433: FutureWarning: Default solver will be changed to 'lbfgs' in 0.22. Specify a solver to silence this warning.\n",
      "  FutureWarning)\n",
      "/Users/weihaoran/env/lib/python3.6/site-packages/sklearn/utils/validation.py:761: DataConversionWarning: A column-vector y was passed when a 1d array was expected. Please change the shape of y to (n_samples, ), for example using ravel().\n",
      "  y = column_or_1d(y, warn=True)\n",
      "/Users/weihaoran/env/lib/python3.6/site-packages/sklearn/linear_model/logistic.py:460: FutureWarning: Default multi_class will be changed to 'auto' in 0.22. Specify the multi_class option to silence this warning.\n",
      "  \"this warning.\", FutureWarning)\n",
      "/Users/weihaoran/env/lib/python3.6/site-packages/sklearn/svm/base.py:922: ConvergenceWarning: Liblinear failed to converge, increase the number of iterations.\n",
      "  \"the number of iterations.\", ConvergenceWarning)\n"
     ]
    },
    {
     "data": {
      "text/plain": [
       "LogisticRegression(C=20.0, class_weight=None, dual=True, fit_intercept=True,\n",
       "          intercept_scaling=1, max_iter=100, multi_class='warn',\n",
       "          n_jobs=None, penalty='l2', random_state=14, solver='warn',\n",
       "          tol=0.0001, verbose=0, warm_start=False)"
      ]
     },
     "execution_count": 319,
     "metadata": {},
     "output_type": "execute_result"
    }
   ],
   "source": [
    "lr.fit(es_texts_cv, es_labels)"
   ]
  },
  {
   "cell_type": "code",
   "execution_count": 320,
   "metadata": {
    "ExecuteTime": {
     "end_time": "2019-04-29T23:47:43.290935Z",
     "start_time": "2019-04-29T23:47:43.283816Z"
    }
   },
   "outputs": [],
   "source": [
    "es_pred = lr.predict(es_dev_cv)"
   ]
  },
  {
   "cell_type": "code",
   "execution_count": 321,
   "metadata": {
    "ExecuteTime": {
     "end_time": "2019-04-29T23:47:44.600978Z",
     "start_time": "2019-04-29T23:47:44.596776Z"
    }
   },
   "outputs": [],
   "source": [
    "es_pred.dtype = np.int"
   ]
  },
  {
   "cell_type": "code",
   "execution_count": 322,
   "metadata": {
    "ExecuteTime": {
     "end_time": "2019-04-29T23:47:45.571179Z",
     "start_time": "2019-04-29T23:47:45.536821Z"
    }
   },
   "outputs": [
    {
     "name": "stdout",
     "output_type": "stream",
     "text": [
      "Macro F-Score (official): 11.573\n",
      "-----\n",
      "Micro F-Score: 23.289\n",
      "Precision: 23.289\n",
      "Recall: 23.289\n"
     ]
    }
   ],
   "source": [
    "np.savetxt('res_cv_es.txt', es_pred_dev, fmt='%d')\n",
    "np.savetxt('goldres_cv.txt', np.array(es_pred), fmt='%d')\n",
    "%run scorer_semeval18.py goldres_cv.txt res_cv_es.txt"
   ]
  },
  {
   "cell_type": "markdown",
   "metadata": {},
   "source": [
    "### Tf-idf"
   ]
  },
  {
   "cell_type": "markdown",
   "metadata": {},
   "source": [
    "#### English"
   ]
  },
  {
   "cell_type": "code",
   "execution_count": 124,
   "metadata": {
    "ExecuteTime": {
     "end_time": "2019-04-27T15:28:16.531071Z",
     "start_time": "2019-04-27T15:28:16.520658Z"
    }
   },
   "outputs": [],
   "source": [
    "tf = TfidfVectorizer()"
   ]
  },
  {
   "cell_type": "code",
   "execution_count": 125,
   "metadata": {
    "ExecuteTime": {
     "end_time": "2019-04-27T15:28:18.854264Z",
     "start_time": "2019-04-27T15:28:17.478283Z"
    }
   },
   "outputs": [],
   "source": [
    "en_train_tf = tf.fit_transform(en_train)\n",
    "en_dev_tf = tf.transform(en_dev)"
   ]
  },
  {
   "cell_type": "code",
   "execution_count": 141,
   "metadata": {
    "ExecuteTime": {
     "end_time": "2019-04-27T20:57:32.794129Z",
     "start_time": "2019-04-27T20:57:32.790657Z"
    }
   },
   "outputs": [],
   "source": [
    "Cs = np.logspace(0,1.5,20)"
   ]
  },
  {
   "cell_type": "code",
   "execution_count": 142,
   "metadata": {
    "ExecuteTime": {
     "end_time": "2019-04-27T21:05:13.909833Z",
     "start_time": "2019-04-27T20:57:34.545122Z"
    }
   },
   "outputs": [
    {
     "name": "stdout",
     "output_type": "stream",
     "text": [
      "C:  1.0\n"
     ]
    },
    {
     "name": "stderr",
     "output_type": "stream",
     "text": [
      "/Users/weihaoran/env/lib/python3.6/site-packages/sklearn/linear_model/logistic.py:433: FutureWarning: Default solver will be changed to 'lbfgs' in 0.22. Specify a solver to silence this warning.\n",
      "  FutureWarning)\n",
      "/Users/weihaoran/env/lib/python3.6/site-packages/sklearn/linear_model/logistic.py:460: FutureWarning: Default multi_class will be changed to 'auto' in 0.22. Specify the multi_class option to silence this warning.\n",
      "  \"this warning.\", FutureWarning)\n"
     ]
    },
    {
     "name": "stdout",
     "output_type": "stream",
     "text": [
      "Macro F-Score (official): 19.725\n",
      "-----\n",
      "Micro F-Score: 32.461\n",
      "Precision: 32.461\n",
      "Recall: 32.461\n",
      "\n",
      "C:  1.1993539462092342\n",
      "Macro F-Score (official): 20.046\n",
      "-----\n",
      "Micro F-Score: 32.533\n",
      "Precision: 32.533\n",
      "Recall: 32.533\n",
      "\n",
      "C:  1.4384498882876628\n",
      "Macro F-Score (official): 20.349\n",
      "-----\n",
      "Micro F-Score: 32.483\n",
      "Precision: 32.483\n",
      "Recall: 32.483\n",
      "\n",
      "C:  1.7252105499420405\n",
      "Macro F-Score (official): 20.83\n",
      "-----\n",
      "Micro F-Score: 32.55\n",
      "Precision: 32.55\n",
      "Recall: 32.55\n",
      "\n",
      "C:  2.0691380811147897\n",
      "Macro F-Score (official): 21.066\n",
      "-----\n",
      "Micro F-Score: 32.45\n",
      "Precision: 32.45\n",
      "Recall: 32.45\n",
      "\n",
      "C:  2.481628922836826\n",
      "Macro F-Score (official): 21.256\n",
      "-----\n",
      "Micro F-Score: 32.333\n",
      "Precision: 32.333\n",
      "Recall: 32.333\n",
      "\n",
      "C:  2.976351441631318\n",
      "Macro F-Score (official): 21.313\n",
      "-----\n",
      "Micro F-Score: 31.989\n",
      "Precision: 31.989\n",
      "Recall: 31.989\n",
      "\n",
      "C:  3.5696988468260646\n",
      "Macro F-Score (official): 21.571\n",
      "-----\n",
      "Micro F-Score: 31.778\n",
      "Precision: 31.778\n",
      "Recall: 31.778\n",
      "\n",
      "C:  4.281332398719393\n",
      "Macro F-Score (official): 21.752\n",
      "-----\n",
      "Micro F-Score: 31.533\n",
      "Precision: 31.533\n",
      "Recall: 31.533\n",
      "\n",
      "C:  5.134832907437552\n",
      "Macro F-Score (official): 21.713\n",
      "-----\n",
      "Micro F-Score: 31.189\n",
      "Precision: 31.189\n",
      "Recall: 31.189\n",
      "\n",
      "C:  6.158482110660264\n",
      "Macro F-Score (official): 21.703\n",
      "-----\n",
      "Micro F-Score: 30.833\n",
      "Precision: 30.833\n",
      "Recall: 30.833\n",
      "\n",
      "C:  7.3861998220793605\n",
      "Macro F-Score (official): 21.485\n",
      "-----\n",
      "Micro F-Score: 30.306\n",
      "Precision: 30.306\n",
      "Recall: 30.306\n",
      "\n",
      "C:  8.858667904100825\n",
      "Macro F-Score (official): 21.325\n",
      "-----\n",
      "Micro F-Score: 29.817\n",
      "Precision: 29.817\n",
      "Recall: 29.817\n",
      "\n",
      "C:  10.624678308940409\n",
      "Macro F-Score (official): 21.275\n",
      "-----\n",
      "Micro F-Score: 29.389\n",
      "Precision: 29.389\n",
      "Recall: 29.389\n",
      "\n",
      "C:  12.742749857031335\n",
      "Macro F-Score (official): 21.192\n",
      "-----\n",
      "Micro F-Score: 28.961\n",
      "Precision: 28.961\n",
      "Recall: 28.961\n",
      "\n",
      "C:  15.283067326587688\n",
      "Macro F-Score (official): 21.004\n",
      "-----\n",
      "Micro F-Score: 28.578\n",
      "Precision: 28.578\n",
      "Recall: 28.578\n",
      "\n",
      "C:  18.329807108324356\n"
     ]
    },
    {
     "name": "stderr",
     "output_type": "stream",
     "text": [
      "/Users/weihaoran/env/lib/python3.6/site-packages/sklearn/svm/base.py:922: ConvergenceWarning: Liblinear failed to converge, increase the number of iterations.\n",
      "  \"the number of iterations.\", ConvergenceWarning)\n"
     ]
    },
    {
     "name": "stdout",
     "output_type": "stream",
     "text": [
      "Macro F-Score (official): 20.873\n",
      "-----\n",
      "Micro F-Score: 28.211\n",
      "Precision: 28.211\n",
      "Recall: 28.211\n",
      "\n",
      "C:  21.983926488622892\n",
      "Macro F-Score (official): 20.593\n",
      "-----\n",
      "Micro F-Score: 27.7\n",
      "Precision: 27.7\n",
      "Recall: 27.7\n",
      "\n",
      "C:  26.366508987303583\n",
      "Macro F-Score (official): 20.277\n",
      "-----\n",
      "Micro F-Score: 27.2\n",
      "Precision: 27.2\n",
      "Recall: 27.2\n",
      "\n",
      "C:  31.622776601683793\n",
      "Macro F-Score (official): 20.071\n",
      "-----\n",
      "Micro F-Score: 26.8\n",
      "Precision: 26.8\n",
      "Recall: 26.8\n",
      "\n"
     ]
    }
   ],
   "source": [
    "for C in Cs:\n",
    "    print(\"C: \" , C )\n",
    "    lr = LogisticRegression(C=C, dual= True, random_state=14)\n",
    "    lr.fit(en_train_tf, en_y)\n",
    "    en_pred_train = lr.predict(en_dev_tf)\n",
    "    en_pred_train.dtype = np.int\n",
    "    np.savetxt('res.txt', en_pred_train, fmt='%d')\n",
    "    np.savetxt('goldres.txt', np.array(en_dev_y), fmt='%d')\n",
    "    %run scorer_semeval18.py goldres.txt res.txt\n",
    "    print()"
   ]
  },
  {
   "cell_type": "code",
   "execution_count": 143,
   "metadata": {
    "ExecuteTime": {
     "end_time": "2019-04-27T21:25:13.321079Z",
     "start_time": "2019-04-27T21:25:13.303569Z"
    }
   },
   "outputs": [],
   "source": [
    "lr = LogisticRegression(C=4, dual= True, random_state=14)"
   ]
  },
  {
   "cell_type": "code",
   "execution_count": 144,
   "metadata": {
    "ExecuteTime": {
     "end_time": "2019-04-27T21:25:26.146925Z",
     "start_time": "2019-04-27T21:25:15.055244Z"
    }
   },
   "outputs": [
    {
     "name": "stderr",
     "output_type": "stream",
     "text": [
      "/Users/weihaoran/env/lib/python3.6/site-packages/sklearn/linear_model/logistic.py:433: FutureWarning: Default solver will be changed to 'lbfgs' in 0.22. Specify a solver to silence this warning.\n",
      "  FutureWarning)\n",
      "/Users/weihaoran/env/lib/python3.6/site-packages/sklearn/linear_model/logistic.py:460: FutureWarning: Default multi_class will be changed to 'auto' in 0.22. Specify the multi_class option to silence this warning.\n",
      "  \"this warning.\", FutureWarning)\n"
     ]
    },
    {
     "data": {
      "text/plain": [
       "LogisticRegression(C=4, class_weight=None, dual=True, fit_intercept=True,\n",
       "          intercept_scaling=1, max_iter=100, multi_class='warn',\n",
       "          n_jobs=None, penalty='l2', random_state=14, solver='warn',\n",
       "          tol=0.0001, verbose=0, warm_start=False)"
      ]
     },
     "execution_count": 144,
     "metadata": {},
     "output_type": "execute_result"
    }
   ],
   "source": [
    "lr.fit(en_train_tf, en_y)"
   ]
  },
  {
   "cell_type": "code",
   "execution_count": 145,
   "metadata": {
    "ExecuteTime": {
     "end_time": "2019-04-27T21:25:27.246892Z",
     "start_time": "2019-04-27T21:25:27.142128Z"
    }
   },
   "outputs": [],
   "source": [
    "en_pred_train = lr.predict(en_dev_tf)\n",
    "en_pred_train.dtype = np.int\n",
    "np.savetxt('res.txt', en_pred_train, fmt='%d')\n",
    "np.savetxt('goldres.txt', np.array(en_dev_y), fmt='%d')"
   ]
  },
  {
   "cell_type": "code",
   "execution_count": 152,
   "metadata": {
    "ExecuteTime": {
     "end_time": "2019-04-27T21:27:00.049672Z",
     "start_time": "2019-04-27T21:27:00.045741Z"
    }
   },
   "outputs": [],
   "source": [
    "lr = LogisticRegression(C=10.0, dual= True, solver=\"liblinear\", random_state=14)"
   ]
  },
  {
   "cell_type": "code",
   "execution_count": 153,
   "metadata": {
    "ExecuteTime": {
     "end_time": "2019-04-27T21:27:02.896561Z",
     "start_time": "2019-04-27T21:27:01.149395Z"
    }
   },
   "outputs": [],
   "source": [
    "en_train_clear = tf.fit_transform(texts_clear)\n",
    "en_test_clear = tf.transform(trial_clear)\n"
   ]
  },
  {
   "cell_type": "code",
   "execution_count": 154,
   "metadata": {
    "ExecuteTime": {
     "end_time": "2019-04-27T21:27:35.683673Z",
     "start_time": "2019-04-27T21:27:03.898685Z"
    }
   },
   "outputs": [
    {
     "name": "stderr",
     "output_type": "stream",
     "text": [
      "/Users/weihaoran/env/lib/python3.6/site-packages/sklearn/linear_model/logistic.py:460: FutureWarning: Default multi_class will be changed to 'auto' in 0.22. Specify the multi_class option to silence this warning.\n",
      "  \"this warning.\", FutureWarning)\n"
     ]
    },
    {
     "data": {
      "text/plain": [
       "LogisticRegression(C=10.0, class_weight=None, dual=True, fit_intercept=True,\n",
       "          intercept_scaling=1, max_iter=100, multi_class='warn',\n",
       "          n_jobs=None, penalty='l2', random_state=14, solver='liblinear',\n",
       "          tol=0.0001, verbose=0, warm_start=False)"
      ]
     },
     "execution_count": 154,
     "metadata": {},
     "output_type": "execute_result"
    }
   ],
   "source": [
    "lr.fit(en_train_clear, en_labels)"
   ]
  },
  {
   "cell_type": "code",
   "execution_count": 155,
   "metadata": {
    "ExecuteTime": {
     "end_time": "2019-04-27T21:27:36.574782Z",
     "start_time": "2019-04-27T21:27:36.564944Z"
    }
   },
   "outputs": [],
   "source": [
    "res_en = lr.predict(en_test_clear)"
   ]
  },
  {
   "cell_type": "code",
   "execution_count": 156,
   "metadata": {
    "ExecuteTime": {
     "end_time": "2019-04-27T21:27:37.429343Z",
     "start_time": "2019-04-27T21:27:37.425558Z"
    }
   },
   "outputs": [],
   "source": [
    "res_en.dtype = np.int"
   ]
  },
  {
   "cell_type": "code",
   "execution_count": 157,
   "metadata": {
    "ExecuteTime": {
     "end_time": "2019-04-27T21:27:38.326685Z",
     "start_time": "2019-04-27T21:27:38.298700Z"
    }
   },
   "outputs": [],
   "source": [
    "np.savetxt(\"res.txt\", res_en, fmt=\"%d\")"
   ]
  },
  {
   "cell_type": "code",
   "execution_count": 158,
   "metadata": {
    "ExecuteTime": {
     "end_time": "2019-04-27T21:27:39.232663Z",
     "start_time": "2019-04-27T21:27:39.210867Z"
    }
   },
   "outputs": [
    {
     "name": "stdout",
     "output_type": "stream",
     "text": [
      "Macro F-Score (official): 21.684\n",
      "-----\n",
      "Micro F-Score: 30.52\n",
      "Precision: 30.52\n",
      "Recall: 30.52\n"
     ]
    }
   ],
   "source": [
    "%run scorer_semeval18.py test/english_test.labels res.txt"
   ]
  },
  {
   "cell_type": "markdown",
   "metadata": {},
   "source": [
    "#### Spanish"
   ]
  },
  {
   "cell_type": "code",
   "execution_count": 266,
   "metadata": {
    "ExecuteTime": {
     "end_time": "2019-04-29T12:52:37.797813Z",
     "start_time": "2019-04-29T12:52:37.764254Z"
    }
   },
   "outputs": [],
   "source": [
    "es_labels = np.array(es_labels).astype(int)"
   ]
  },
  {
   "cell_type": "code",
   "execution_count": 267,
   "metadata": {
    "ExecuteTime": {
     "end_time": "2019-04-29T12:52:52.364459Z",
     "start_time": "2019-04-29T12:52:52.351689Z"
    }
   },
   "outputs": [],
   "source": [
    "es_train, es_dev = train_test_split(es_text_clear, test_size = 0.2, shuffle=False)\n",
    "es_y, es_dev_y = train_test_split(es_labels, test_size = 0.2, shuffle=False)"
   ]
  },
  {
   "cell_type": "code",
   "execution_count": 268,
   "metadata": {
    "ExecuteTime": {
     "end_time": "2019-04-29T12:52:55.117289Z",
     "start_time": "2019-04-29T12:52:55.113773Z"
    }
   },
   "outputs": [],
   "source": [
    "tf_es = TfidfVectorizer()"
   ]
  },
  {
   "cell_type": "code",
   "execution_count": 269,
   "metadata": {
    "ExecuteTime": {
     "end_time": "2019-04-29T12:52:56.512843Z",
     "start_time": "2019-04-29T12:52:56.160897Z"
    }
   },
   "outputs": [],
   "source": [
    "es_train_tf = tf.fit_transform(es_train)\n",
    "es_dev_tf = tf.transform(es_dev)"
   ]
  },
  {
   "cell_type": "code",
   "execution_count": 270,
   "metadata": {
    "ExecuteTime": {
     "end_time": "2019-04-29T12:53:41.473659Z",
     "start_time": "2019-04-29T12:52:57.489496Z"
    }
   },
   "outputs": [
    {
     "name": "stdout",
     "output_type": "stream",
     "text": [
      "C:  1.0\n"
     ]
    },
    {
     "name": "stderr",
     "output_type": "stream",
     "text": [
      "/Users/weihaoran/env/lib/python3.6/site-packages/sklearn/linear_model/logistic.py:433: FutureWarning: Default solver will be changed to 'lbfgs' in 0.22. Specify a solver to silence this warning.\n",
      "  FutureWarning)\n",
      "/Users/weihaoran/env/lib/python3.6/site-packages/sklearn/utils/validation.py:761: DataConversionWarning: A column-vector y was passed when a 1d array was expected. Please change the shape of y to (n_samples, ), for example using ravel().\n",
      "  y = column_or_1d(y, warn=True)\n",
      "/Users/weihaoran/env/lib/python3.6/site-packages/sklearn/linear_model/logistic.py:460: FutureWarning: Default multi_class will be changed to 'auto' in 0.22. Specify the multi_class option to silence this warning.\n",
      "  \"this warning.\", FutureWarning)\n"
     ]
    },
    {
     "name": "stdout",
     "output_type": "stream",
     "text": [
      "Macro F-Score (official): 7.665\n",
      "-----\n",
      "Micro F-Score: 28.237\n",
      "Precision: 28.237\n",
      "Recall: 28.237\n",
      "\n",
      "C:  1.1993539462092342\n",
      "Macro F-Score (official): 7.882\n",
      "-----\n",
      "Micro F-Score: 28.0\n",
      "Precision: 28.0\n",
      "Recall: 28.0\n",
      "\n",
      "C:  1.4384498882876628\n",
      "Macro F-Score (official): 8.212\n",
      "-----\n",
      "Micro F-Score: 28.026\n",
      "Precision: 28.026\n",
      "Recall: 28.026\n",
      "\n",
      "C:  1.7252105499420405\n",
      "Macro F-Score (official): 8.625\n",
      "-----\n",
      "Micro F-Score: 27.816\n",
      "Precision: 27.816\n",
      "Recall: 27.816\n",
      "\n",
      "C:  2.0691380811147897\n",
      "Macro F-Score (official): 8.849\n",
      "-----\n",
      "Micro F-Score: 27.342\n",
      "Precision: 27.342\n",
      "Recall: 27.342\n",
      "\n",
      "C:  2.481628922836826\n",
      "Macro F-Score (official): 9.227\n",
      "-----\n",
      "Micro F-Score: 26.895\n",
      "Precision: 26.895\n",
      "Recall: 26.895\n",
      "\n",
      "C:  2.976351441631318\n",
      "Macro F-Score (official): 9.337\n",
      "-----\n",
      "Micro F-Score: 26.5\n",
      "Precision: 26.5\n",
      "Recall: 26.5\n",
      "\n",
      "C:  3.5696988468260646\n",
      "Macro F-Score (official): 9.99\n",
      "-----\n",
      "Micro F-Score: 26.105\n",
      "Precision: 26.105\n",
      "Recall: 26.105\n",
      "\n",
      "C:  4.281332398719393\n",
      "Macro F-Score (official): 10.019\n",
      "-----\n",
      "Micro F-Score: 25.711\n",
      "Precision: 25.711\n",
      "Recall: 25.711\n",
      "\n",
      "C:  5.134832907437552\n",
      "Macro F-Score (official): 10.159\n",
      "-----\n",
      "Micro F-Score: 25.605\n",
      "Precision: 25.605\n",
      "Recall: 25.605\n",
      "\n",
      "C:  6.158482110660264\n",
      "Macro F-Score (official): 10.323\n",
      "-----\n",
      "Micro F-Score: 25.316\n",
      "Precision: 25.316\n",
      "Recall: 25.316\n",
      "\n",
      "C:  7.3861998220793605\n",
      "Macro F-Score (official): 10.14\n",
      "-----\n",
      "Micro F-Score: 24.816\n",
      "Precision: 24.816\n",
      "Recall: 24.816\n",
      "\n",
      "C:  8.858667904100825\n",
      "Macro F-Score (official): 10.415\n",
      "-----\n",
      "Micro F-Score: 24.316\n",
      "Precision: 24.316\n",
      "Recall: 24.316\n",
      "\n",
      "C:  10.624678308940409\n",
      "Macro F-Score (official): 10.645\n",
      "-----\n",
      "Micro F-Score: 24.237\n",
      "Precision: 24.237\n",
      "Recall: 24.237\n",
      "\n",
      "C:  12.742749857031335\n",
      "Macro F-Score (official): 10.708\n",
      "-----\n",
      "Micro F-Score: 23.947\n",
      "Precision: 23.947\n",
      "Recall: 23.947\n",
      "\n",
      "C:  15.283067326587688\n",
      "Macro F-Score (official): 10.702\n",
      "-----\n",
      "Micro F-Score: 23.632\n",
      "Precision: 23.632\n",
      "Recall: 23.632\n",
      "\n",
      "C:  18.329807108324356\n",
      "Macro F-Score (official): 10.801\n",
      "-----\n",
      "Micro F-Score: 23.5\n",
      "Precision: 23.5\n",
      "Recall: 23.5\n",
      "\n",
      "C:  21.983926488622892\n"
     ]
    },
    {
     "name": "stderr",
     "output_type": "stream",
     "text": [
      "/Users/weihaoran/env/lib/python3.6/site-packages/sklearn/svm/base.py:922: ConvergenceWarning: Liblinear failed to converge, increase the number of iterations.\n",
      "  \"the number of iterations.\", ConvergenceWarning)\n"
     ]
    },
    {
     "name": "stdout",
     "output_type": "stream",
     "text": [
      "Macro F-Score (official): 10.763\n",
      "-----\n",
      "Micro F-Score: 23.263\n",
      "Precision: 23.263\n",
      "Recall: 23.263\n",
      "\n",
      "C:  26.366508987303583\n",
      "Macro F-Score (official): 10.889\n",
      "-----\n",
      "Micro F-Score: 23.132\n",
      "Precision: 23.132\n",
      "Recall: 23.132\n",
      "\n",
      "C:  31.622776601683793\n",
      "Macro F-Score (official): 10.816\n",
      "-----\n",
      "Micro F-Score: 23.0\n",
      "Precision: 23.0\n",
      "Recall: 23.0\n",
      "\n"
     ]
    }
   ],
   "source": [
    "for C in Cs:\n",
    "    print(\"C: \" , C )\n",
    "    lr = LogisticRegression(C=C, dual= True, random_state=14)\n",
    "    lr.fit(es_train_tf, es_y)\n",
    "    es_pred_train = lr.predict(es_dev_tf)\n",
    "    es_pred_train.dtype = np.int\n",
    "    np.savetxt('res_es.txt', es_pred_train.astype(int), fmt='%d')\n",
    "    np.savetxt('goldres_es.txt', np.array(es_dev_y).astype(int), fmt='%d')\n",
    "    %run scorer_semeval18.py goldres_es.txt res_es.txt\n",
    "    print()"
   ]
  },
  {
   "cell_type": "code",
   "execution_count": 283,
   "metadata": {
    "ExecuteTime": {
     "end_time": "2019-04-29T19:20:30.691717Z",
     "start_time": "2019-04-29T19:20:30.216248Z"
    }
   },
   "outputs": [],
   "source": [
    "es_texts_tf = tf_es.fit_transform(es_text_clear)\n",
    "es_test_tf = tf_es.transform(es_trial_clear)"
   ]
  },
  {
   "cell_type": "code",
   "execution_count": 284,
   "metadata": {
    "ExecuteTime": {
     "end_time": "2019-04-29T19:20:38.676120Z",
     "start_time": "2019-04-29T19:20:31.978461Z"
    }
   },
   "outputs": [
    {
     "name": "stderr",
     "output_type": "stream",
     "text": [
      "/Users/weihaoran/env/lib/python3.6/site-packages/sklearn/linear_model/logistic.py:433: FutureWarning: Default solver will be changed to 'lbfgs' in 0.22. Specify a solver to silence this warning.\n",
      "  FutureWarning)\n",
      "/Users/weihaoran/env/lib/python3.6/site-packages/sklearn/utils/validation.py:761: DataConversionWarning: A column-vector y was passed when a 1d array was expected. Please change the shape of y to (n_samples, ), for example using ravel().\n",
      "  y = column_or_1d(y, warn=True)\n",
      "/Users/weihaoran/env/lib/python3.6/site-packages/sklearn/linear_model/logistic.py:460: FutureWarning: Default multi_class will be changed to 'auto' in 0.22. Specify the multi_class option to silence this warning.\n",
      "  \"this warning.\", FutureWarning)\n",
      "/Users/weihaoran/env/lib/python3.6/site-packages/sklearn/svm/base.py:922: ConvergenceWarning: Liblinear failed to converge, increase the number of iterations.\n",
      "  \"the number of iterations.\", ConvergenceWarning)\n"
     ]
    }
   ],
   "source": [
    "lr = LogisticRegression(C=26.4, dual= True, random_state=14)\n",
    "lr.fit(es_texts_tf, es_labels)\n",
    "pred_es = lr.predict(es_test_tf)\n",
    "pred_es = np.array(pred_es).astype(int)"
   ]
  },
  {
   "cell_type": "code",
   "execution_count": 286,
   "metadata": {
    "ExecuteTime": {
     "end_time": "2019-04-29T19:21:10.904292Z",
     "start_time": "2019-04-29T19:21:10.898374Z"
    }
   },
   "outputs": [
    {
     "data": {
      "text/plain": [
       "1000"
      ]
     },
     "execution_count": 286,
     "metadata": {},
     "output_type": "execute_result"
    }
   ],
   "source": [
    "len(pred_es)"
   ]
  },
  {
   "cell_type": "code",
   "execution_count": 288,
   "metadata": {
    "ExecuteTime": {
     "end_time": "2019-04-29T19:21:33.974211Z",
     "start_time": "2019-04-29T19:21:33.967719Z"
    }
   },
   "outputs": [
    {
     "data": {
      "text/plain": [
       "(1000, 36801)"
      ]
     },
     "execution_count": 288,
     "metadata": {},
     "output_type": "execute_result"
    }
   ],
   "source": [
    "es_test_tf.shape"
   ]
  },
  {
   "cell_type": "code",
   "execution_count": 290,
   "metadata": {
    "ExecuteTime": {
     "end_time": "2019-04-29T19:22:05.770028Z",
     "start_time": "2019-04-29T19:22:05.758295Z"
    }
   },
   "outputs": [
    {
     "name": "stdout",
     "output_type": "stream",
     "text": [
      "Macro F-Score (official): 11.804\n",
      "-----\n",
      "Micro F-Score: 25.7\n",
      "Precision: 25.7\n",
      "Recall: 25.7\n"
     ]
    }
   ],
   "source": [
    "np.savetxt(\"res_es.txt\", pred_es, fmt=\"%d\")\n",
    "%run scorer_semeval18.py test/spanish_test.labels res_es.txt"
   ]
  },
  {
   "cell_type": "code",
   "execution_count": null,
   "metadata": {},
   "outputs": [],
   "source": []
  }
 ],
 "metadata": {
  "kernelspec": {
   "display_name": "Python 3",
   "language": "python",
   "name": "python3"
  },
  "language_info": {
   "codemirror_mode": {
    "name": "ipython",
    "version": 3
   },
   "file_extension": ".py",
   "mimetype": "text/x-python",
   "name": "python",
   "nbconvert_exporter": "python",
   "pygments_lexer": "ipython3",
   "version": "3.6.5"
  },
  "toc": {
   "base_numbering": 1,
   "nav_menu": {},
   "number_sections": true,
   "sideBar": true,
   "skip_h1_title": false,
   "title_cell": "Table of Contents",
   "title_sidebar": "Contents",
   "toc_cell": false,
   "toc_position": {},
   "toc_section_display": true,
   "toc_window_display": false
  },
  "varInspector": {
   "cols": {
    "lenName": 16,
    "lenType": 16,
    "lenVar": 40
   },
   "kernels_config": {
    "python": {
     "delete_cmd_postfix": "",
     "delete_cmd_prefix": "del ",
     "library": "var_list.py",
     "varRefreshCmd": "print(var_dic_list())"
    },
    "r": {
     "delete_cmd_postfix": ") ",
     "delete_cmd_prefix": "rm(",
     "library": "var_list.r",
     "varRefreshCmd": "cat(var_dic_list()) "
    }
   },
   "types_to_exclude": [
    "module",
    "function",
    "builtin_function_or_method",
    "instance",
    "_Feature"
   ],
   "window_display": false
  }
 },
 "nbformat": 4,
 "nbformat_minor": 2
}
